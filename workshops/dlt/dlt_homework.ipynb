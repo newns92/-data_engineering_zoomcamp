{
 "cells": [
  {
   "cell_type": "markdown",
   "id": "0372526b",
   "metadata": {},
   "source": [
    "# dlt"
   ]
  },
  {
   "cell_type": "code",
   "execution_count": 18,
   "id": "ed030807",
   "metadata": {},
   "outputs": [],
   "source": [
    "# !pip install dlt[duckdb]"
   ]
  },
  {
   "cell_type": "code",
   "execution_count": 8,
   "id": "a3f8e072",
   "metadata": {
    "scrolled": true
   },
   "outputs": [
    {
     "name": "stdout",
     "output_type": "stream",
     "text": [
      "1.0\n",
      "1.4142135623730951\n",
      "1.7320508075688772\n",
      "2.0\n",
      "2.23606797749979\n"
     ]
    }
   ],
   "source": [
    "def square_root_generator(limit):\n",
    "    n = 1\n",
    "    while n <= limit:\n",
    "        yield n ** 0.5\n",
    "        n += 1\n",
    "\n",
    "# Example usage:\n",
    "limit = 5\n",
    "generator = square_root_generator(limit)\n",
    "\n",
    "for sqrt_value in generator:\n",
    "    print(sqrt_value)"
   ]
  },
  {
   "cell_type": "markdown",
   "id": "f011bfac",
   "metadata": {},
   "source": [
    "# Question 1"
   ]
  },
  {
   "cell_type": "code",
   "execution_count": 10,
   "id": "f419f247",
   "metadata": {},
   "outputs": [
    {
     "name": "stdout",
     "output_type": "stream",
     "text": [
      "\n",
      " 8.382332347441762\n"
     ]
    }
   ],
   "source": [
    "total_value = 0\n",
    "\n",
    "generator = square_root_generator(limit)\n",
    "\n",
    "for sqrt_value in generator:\n",
    "    total_value += sqrt_value\n",
    "    # print(sqrt_value)\n",
    "    \n",
    "print('\\n', total_value)"
   ]
  },
  {
   "cell_type": "markdown",
   "id": "4a4b501a",
   "metadata": {},
   "source": [
    "# Question 2"
   ]
  },
  {
   "cell_type": "code",
   "execution_count": 11,
   "id": "8859f4f2",
   "metadata": {},
   "outputs": [
    {
     "name": "stdout",
     "output_type": "stream",
     "text": [
      "1.0\n",
      "1.4142135623730951\n",
      "1.7320508075688772\n",
      "2.0\n",
      "2.23606797749979\n",
      "2.449489742783178\n",
      "2.6457513110645907\n",
      "2.8284271247461903\n",
      "3.0\n",
      "3.1622776601683795\n",
      "3.3166247903554\n",
      "3.4641016151377544\n",
      "3.605551275463989\n"
     ]
    }
   ],
   "source": [
    "limit = 13\n",
    "generator = square_root_generator(limit)\n",
    "\n",
    "for sqrt_value in generator:\n",
    "    # total_value += sqrt_value\n",
    "    print(sqrt_value)"
   ]
  },
  {
   "cell_type": "markdown",
   "id": "60ca5045",
   "metadata": {},
   "source": [
    "## Question 3"
   ]
  },
  {
   "cell_type": "code",
   "execution_count": 1,
   "id": "da09755f",
   "metadata": {},
   "outputs": [],
   "source": [
    "import dlt"
   ]
  },
  {
   "cell_type": "code",
   "execution_count": 40,
   "id": "7003cc6f",
   "metadata": {},
   "outputs": [],
   "source": [
    "pipeline = dlt.pipeline(destination='duckdb', dataset_name='homework_dataset')"
   ]
  },
  {
   "cell_type": "code",
   "execution_count": 49,
   "id": "d1d8080b",
   "metadata": {},
   "outputs": [
    {
     "name": "stdout",
     "output_type": "stream",
     "text": [
      "Pipeline dlt_ipykernel_launcher load step completed in 1.08 seconds\n",
      "1 load package(s) were loaded to destination duckdb and into dataset homework_dataset\n",
      "The duckdb destination used duckdb:///C:\\Users\\nimz\\Documents\\de_zoomcamp\\workshops\\dlt\\dlt_ipykernel_launcher.duckdb location to store data\n",
      "Load package 1708298938.5372713 is LOADED and contains no failed jobs\n"
     ]
    }
   ],
   "source": [
    "def people_1():\n",
    "    for i in range(1, 6):\n",
    "        yield {\"ID\": i, \"Name\": f\"Person_{i}\", \"Age\": 25 + i, \"City\": \"City_A\"}\n",
    "        \n",
    "# run the pipeline with default settings, and capture the outcome\n",
    "info = pipeline.run(people_1(), \n",
    "                    table_name=\"homework_table_1\", \n",
    "                    write_disposition=\"replace\",\n",
    "                   # merge_key=\"ID\"\n",
    "                   )\n",
    "\n",
    "# show the outcome\n",
    "print(info)"
   ]
  },
  {
   "cell_type": "code",
   "execution_count": 50,
   "id": "4fd04ff9",
   "metadata": {},
   "outputs": [
    {
     "name": "stdout",
     "output_type": "stream",
     "text": [
      "Loaded tables: \n"
     ]
    },
    {
     "data": {
      "text/plain": [
       "┌─────────────────────┐\n",
       "│        name         │\n",
       "│       varchar       │\n",
       "├─────────────────────┤\n",
       "│ _dlt_loads          │\n",
       "│ _dlt_loads          │\n",
       "│ _dlt_pipeline_state │\n",
       "│ _dlt_pipeline_state │\n",
       "│ _dlt_version        │\n",
       "│ _dlt_version        │\n",
       "│ _dlt_version        │\n",
       "│ _dlt_version        │\n",
       "│ homework_table      │\n",
       "│ homework_table      │\n",
       "│ homework_table_1    │\n",
       "├─────────────────────┤\n",
       "│       11 rows       │\n",
       "└─────────────────────┘"
      ]
     },
     "metadata": {},
     "output_type": "display_data"
    }
   ],
   "source": [
    "# show outcome\n",
    "import duckdb\n",
    "\n",
    "conn = duckdb.connect(f\"{pipeline.pipeline_name}.duckdb\")\n",
    "\n",
    "# let's see the tables\n",
    "conn.sql(f\"SET search_path = '{pipeline.dataset_name}'\")\n",
    "print('Loaded tables: ')\n",
    "display(conn.sql(\"show tables\"))"
   ]
  },
  {
   "cell_type": "code",
   "execution_count": 52,
   "id": "60e37ee3",
   "metadata": {},
   "outputs": [
    {
     "name": "stdout",
     "output_type": "stream",
     "text": [
      "\n",
      "\n",
      "\n",
      " http_download table below:\n"
     ]
    },
    {
     "data": {
      "text/html": [
       "<div>\n",
       "<style scoped>\n",
       "    .dataframe tbody tr th:only-of-type {\n",
       "        vertical-align: middle;\n",
       "    }\n",
       "\n",
       "    .dataframe tbody tr th {\n",
       "        vertical-align: top;\n",
       "    }\n",
       "\n",
       "    .dataframe thead th {\n",
       "        text-align: right;\n",
       "    }\n",
       "</style>\n",
       "<table border=\"1\" class=\"dataframe\">\n",
       "  <thead>\n",
       "    <tr style=\"text-align: right;\">\n",
       "      <th></th>\n",
       "      <th>id</th>\n",
       "      <th>name</th>\n",
       "      <th>age</th>\n",
       "      <th>city</th>\n",
       "      <th>_dlt_load_id</th>\n",
       "      <th>_dlt_id</th>\n",
       "    </tr>\n",
       "  </thead>\n",
       "  <tbody>\n",
       "    <tr>\n",
       "      <th>0</th>\n",
       "      <td>1</td>\n",
       "      <td>Person_1</td>\n",
       "      <td>26</td>\n",
       "      <td>City_A</td>\n",
       "      <td>1708298938.5372713</td>\n",
       "      <td>PYKtTwSqckgpCQ</td>\n",
       "    </tr>\n",
       "    <tr>\n",
       "      <th>1</th>\n",
       "      <td>2</td>\n",
       "      <td>Person_2</td>\n",
       "      <td>27</td>\n",
       "      <td>City_A</td>\n",
       "      <td>1708298938.5372713</td>\n",
       "      <td>3XOQFmgzVlpiKA</td>\n",
       "    </tr>\n",
       "    <tr>\n",
       "      <th>2</th>\n",
       "      <td>3</td>\n",
       "      <td>Person_3</td>\n",
       "      <td>28</td>\n",
       "      <td>City_A</td>\n",
       "      <td>1708298938.5372713</td>\n",
       "      <td>+HR9oujlEqI5BQ</td>\n",
       "    </tr>\n",
       "    <tr>\n",
       "      <th>3</th>\n",
       "      <td>4</td>\n",
       "      <td>Person_4</td>\n",
       "      <td>29</td>\n",
       "      <td>City_A</td>\n",
       "      <td>1708298938.5372713</td>\n",
       "      <td>ywMTwU5BkpoWxw</td>\n",
       "    </tr>\n",
       "    <tr>\n",
       "      <th>4</th>\n",
       "      <td>5</td>\n",
       "      <td>Person_5</td>\n",
       "      <td>30</td>\n",
       "      <td>City_A</td>\n",
       "      <td>1708298938.5372713</td>\n",
       "      <td>Ys/v9gg99HhRsA</td>\n",
       "    </tr>\n",
       "  </tbody>\n",
       "</table>\n",
       "</div>"
      ],
      "text/plain": [
       "   id      name  age    city        _dlt_load_id         _dlt_id\n",
       "0   1  Person_1   26  City_A  1708298938.5372713  PYKtTwSqckgpCQ\n",
       "1   2  Person_2   27  City_A  1708298938.5372713  3XOQFmgzVlpiKA\n",
       "2   3  Person_3   28  City_A  1708298938.5372713  +HR9oujlEqI5BQ\n",
       "3   4  Person_4   29  City_A  1708298938.5372713  ywMTwU5BkpoWxw\n",
       "4   5  Person_5   30  City_A  1708298938.5372713  Ys/v9gg99HhRsA"
      ]
     },
     "metadata": {},
     "output_type": "display_data"
    }
   ],
   "source": [
    "# and the data\n",
    "\n",
    "print(\"\\n\\n\\n http_download table below:\")\n",
    "\n",
    "rides = conn.sql(\"SELECT * FROM homework_table_1\").df()\n",
    "display(rides)\n",
    "\n",
    "# As you can see, the same data was loaded in both cases."
   ]
  },
  {
   "cell_type": "code",
   "execution_count": 53,
   "id": "a9c93c50",
   "metadata": {},
   "outputs": [
    {
     "name": "stdout",
     "output_type": "stream",
     "text": [
      "Pipeline dlt_ipykernel_launcher load step completed in 0.34 seconds\n",
      "1 load package(s) were loaded to destination duckdb and into dataset homework_dataset\n",
      "The duckdb destination used duckdb:///C:\\Users\\nimz\\Documents\\de_zoomcamp\\workshops\\dlt\\dlt_ipykernel_launcher.duckdb location to store data\n",
      "Load package 1708298993.5530512 is LOADED and contains no failed jobs\n"
     ]
    }
   ],
   "source": [
    "def people_2():\n",
    "    for i in range(3, 9):\n",
    "        yield {\"ID\": i, \"Name\": f\"Person_{i}\", \"Age\": 30 + i, \"City\": \"City_B\", \"Occupation\": f\"Job_{i}\"}\n",
    "        \n",
    "# run the pipeline with default settings, and capture the outcome\n",
    "info = pipeline.run(people_2(), \n",
    "                    table_name=\"homework_table_1\", \n",
    "                    write_disposition=\"append\",\n",
    "                   )\n",
    "\n",
    "# show the outcome\n",
    "print(info)"
   ]
  },
  {
   "cell_type": "code",
   "execution_count": 54,
   "id": "4abac4f3",
   "metadata": {},
   "outputs": [
    {
     "name": "stdout",
     "output_type": "stream",
     "text": [
      "\n",
      "\n",
      "\n",
      " http_download table below:\n"
     ]
    },
    {
     "data": {
      "text/html": [
       "<div>\n",
       "<style scoped>\n",
       "    .dataframe tbody tr th:only-of-type {\n",
       "        vertical-align: middle;\n",
       "    }\n",
       "\n",
       "    .dataframe tbody tr th {\n",
       "        vertical-align: top;\n",
       "    }\n",
       "\n",
       "    .dataframe thead th {\n",
       "        text-align: right;\n",
       "    }\n",
       "</style>\n",
       "<table border=\"1\" class=\"dataframe\">\n",
       "  <thead>\n",
       "    <tr style=\"text-align: right;\">\n",
       "      <th></th>\n",
       "      <th>id</th>\n",
       "      <th>name</th>\n",
       "      <th>age</th>\n",
       "      <th>city</th>\n",
       "      <th>_dlt_load_id</th>\n",
       "      <th>_dlt_id</th>\n",
       "      <th>occupation</th>\n",
       "    </tr>\n",
       "  </thead>\n",
       "  <tbody>\n",
       "    <tr>\n",
       "      <th>0</th>\n",
       "      <td>1</td>\n",
       "      <td>Person_1</td>\n",
       "      <td>26</td>\n",
       "      <td>City_A</td>\n",
       "      <td>1708298938.5372713</td>\n",
       "      <td>PYKtTwSqckgpCQ</td>\n",
       "      <td>NaN</td>\n",
       "    </tr>\n",
       "    <tr>\n",
       "      <th>1</th>\n",
       "      <td>2</td>\n",
       "      <td>Person_2</td>\n",
       "      <td>27</td>\n",
       "      <td>City_A</td>\n",
       "      <td>1708298938.5372713</td>\n",
       "      <td>3XOQFmgzVlpiKA</td>\n",
       "      <td>NaN</td>\n",
       "    </tr>\n",
       "    <tr>\n",
       "      <th>2</th>\n",
       "      <td>3</td>\n",
       "      <td>Person_3</td>\n",
       "      <td>28</td>\n",
       "      <td>City_A</td>\n",
       "      <td>1708298938.5372713</td>\n",
       "      <td>+HR9oujlEqI5BQ</td>\n",
       "      <td>NaN</td>\n",
       "    </tr>\n",
       "    <tr>\n",
       "      <th>3</th>\n",
       "      <td>4</td>\n",
       "      <td>Person_4</td>\n",
       "      <td>29</td>\n",
       "      <td>City_A</td>\n",
       "      <td>1708298938.5372713</td>\n",
       "      <td>ywMTwU5BkpoWxw</td>\n",
       "      <td>NaN</td>\n",
       "    </tr>\n",
       "    <tr>\n",
       "      <th>4</th>\n",
       "      <td>5</td>\n",
       "      <td>Person_5</td>\n",
       "      <td>30</td>\n",
       "      <td>City_A</td>\n",
       "      <td>1708298938.5372713</td>\n",
       "      <td>Ys/v9gg99HhRsA</td>\n",
       "      <td>NaN</td>\n",
       "    </tr>\n",
       "    <tr>\n",
       "      <th>5</th>\n",
       "      <td>3</td>\n",
       "      <td>Person_3</td>\n",
       "      <td>33</td>\n",
       "      <td>City_B</td>\n",
       "      <td>1708298993.5530512</td>\n",
       "      <td>IgIjixDMzNv/OA</td>\n",
       "      <td>Job_3</td>\n",
       "    </tr>\n",
       "    <tr>\n",
       "      <th>6</th>\n",
       "      <td>4</td>\n",
       "      <td>Person_4</td>\n",
       "      <td>34</td>\n",
       "      <td>City_B</td>\n",
       "      <td>1708298993.5530512</td>\n",
       "      <td>gGgYJF+VgIWlPg</td>\n",
       "      <td>Job_4</td>\n",
       "    </tr>\n",
       "    <tr>\n",
       "      <th>7</th>\n",
       "      <td>5</td>\n",
       "      <td>Person_5</td>\n",
       "      <td>35</td>\n",
       "      <td>City_B</td>\n",
       "      <td>1708298993.5530512</td>\n",
       "      <td>MvOx1jTvybn8ag</td>\n",
       "      <td>Job_5</td>\n",
       "    </tr>\n",
       "    <tr>\n",
       "      <th>8</th>\n",
       "      <td>6</td>\n",
       "      <td>Person_6</td>\n",
       "      <td>36</td>\n",
       "      <td>City_B</td>\n",
       "      <td>1708298993.5530512</td>\n",
       "      <td>80I0bZA3Jpvs5g</td>\n",
       "      <td>Job_6</td>\n",
       "    </tr>\n",
       "    <tr>\n",
       "      <th>9</th>\n",
       "      <td>7</td>\n",
       "      <td>Person_7</td>\n",
       "      <td>37</td>\n",
       "      <td>City_B</td>\n",
       "      <td>1708298993.5530512</td>\n",
       "      <td>T0g3p/uysx/jLA</td>\n",
       "      <td>Job_7</td>\n",
       "    </tr>\n",
       "    <tr>\n",
       "      <th>10</th>\n",
       "      <td>8</td>\n",
       "      <td>Person_8</td>\n",
       "      <td>38</td>\n",
       "      <td>City_B</td>\n",
       "      <td>1708298993.5530512</td>\n",
       "      <td>fsK1ErIDlhqvNQ</td>\n",
       "      <td>Job_8</td>\n",
       "    </tr>\n",
       "  </tbody>\n",
       "</table>\n",
       "</div>"
      ],
      "text/plain": [
       "    id      name  age    city        _dlt_load_id         _dlt_id occupation\n",
       "0    1  Person_1   26  City_A  1708298938.5372713  PYKtTwSqckgpCQ        NaN\n",
       "1    2  Person_2   27  City_A  1708298938.5372713  3XOQFmgzVlpiKA        NaN\n",
       "2    3  Person_3   28  City_A  1708298938.5372713  +HR9oujlEqI5BQ        NaN\n",
       "3    4  Person_4   29  City_A  1708298938.5372713  ywMTwU5BkpoWxw        NaN\n",
       "4    5  Person_5   30  City_A  1708298938.5372713  Ys/v9gg99HhRsA        NaN\n",
       "5    3  Person_3   33  City_B  1708298993.5530512  IgIjixDMzNv/OA      Job_3\n",
       "6    4  Person_4   34  City_B  1708298993.5530512  gGgYJF+VgIWlPg      Job_4\n",
       "7    5  Person_5   35  City_B  1708298993.5530512  MvOx1jTvybn8ag      Job_5\n",
       "8    6  Person_6   36  City_B  1708298993.5530512  80I0bZA3Jpvs5g      Job_6\n",
       "9    7  Person_7   37  City_B  1708298993.5530512  T0g3p/uysx/jLA      Job_7\n",
       "10   8  Person_8   38  City_B  1708298993.5530512  fsK1ErIDlhqvNQ      Job_8"
      ]
     },
     "metadata": {},
     "output_type": "display_data"
    }
   ],
   "source": [
    "# and the data\n",
    "\n",
    "print(\"\\n\\n\\n http_download table below:\")\n",
    "\n",
    "rides = conn.sql(\"SELECT * FROM homework_table_1\").df()\n",
    "display(rides)\n",
    "\n",
    "# As you can see, the same data was loaded in both cases."
   ]
  },
  {
   "cell_type": "code",
   "execution_count": 55,
   "id": "ddb888eb",
   "metadata": {},
   "outputs": [
    {
     "data": {
      "text/html": [
       "<div>\n",
       "<style scoped>\n",
       "    .dataframe tbody tr th:only-of-type {\n",
       "        vertical-align: middle;\n",
       "    }\n",
       "\n",
       "    .dataframe tbody tr th {\n",
       "        vertical-align: top;\n",
       "    }\n",
       "\n",
       "    .dataframe thead th {\n",
       "        text-align: right;\n",
       "    }\n",
       "</style>\n",
       "<table border=\"1\" class=\"dataframe\">\n",
       "  <thead>\n",
       "    <tr style=\"text-align: right;\">\n",
       "      <th></th>\n",
       "      <th>sum(age)</th>\n",
       "    </tr>\n",
       "  </thead>\n",
       "  <tbody>\n",
       "    <tr>\n",
       "      <th>0</th>\n",
       "      <td>353.0</td>\n",
       "    </tr>\n",
       "  </tbody>\n",
       "</table>\n",
       "</div>"
      ],
      "text/plain": [
       "   sum(age)\n",
       "0     353.0"
      ]
     },
     "metadata": {},
     "output_type": "display_data"
    }
   ],
   "source": [
    "rides = conn.sql(\"SELECT SUM(age) FROM homework_table_1\").df()\n",
    "display(rides)"
   ]
  },
  {
   "cell_type": "markdown",
   "id": "42e68d2e",
   "metadata": {},
   "source": [
    "## Question 4"
   ]
  },
  {
   "cell_type": "code",
   "execution_count": 56,
   "id": "70c4bed8",
   "metadata": {},
   "outputs": [
    {
     "name": "stdout",
     "output_type": "stream",
     "text": [
      "Pipeline dlt_ipykernel_launcher load step completed in 0.39 seconds\n",
      "1 load package(s) were loaded to destination duckdb and into dataset homework_dataset\n",
      "The duckdb destination used duckdb:///C:\\Users\\nimz\\Documents\\de_zoomcamp\\workshops\\dlt\\dlt_ipykernel_launcher.duckdb location to store data\n",
      "Load package 1708299052.3107886 is LOADED and contains no failed jobs\n"
     ]
    }
   ],
   "source": [
    "def people_1():\n",
    "    for i in range(1, 6):\n",
    "        yield {\"ID\": i, \"Name\": f\"Person_{i}\", \"Age\": 25 + i, \"City\": \"City_A\"}\n",
    "        \n",
    "# run the pipeline with default settings, and capture the outcome\n",
    "info = pipeline.run(people_1(), \n",
    "                    table_name=\"homework_table_2\", \n",
    "                    write_disposition=\"replace\",\n",
    "                   # merge_key=\"ID\"\n",
    "                   )\n",
    "\n",
    "# show the outcome\n",
    "print(info)"
   ]
  },
  {
   "cell_type": "code",
   "execution_count": 57,
   "id": "00306841",
   "metadata": {},
   "outputs": [
    {
     "name": "stdout",
     "output_type": "stream",
     "text": [
      "Pipeline dlt_ipykernel_launcher load step completed in 0.77 seconds\n",
      "1 load package(s) were loaded to destination duckdb and into dataset homework_dataset\n",
      "The duckdb destination used duckdb:///C:\\Users\\nimz\\Documents\\de_zoomcamp\\workshops\\dlt\\dlt_ipykernel_launcher.duckdb location to store data\n",
      "Load package 1708299054.4555738 is LOADED and contains no failed jobs\n"
     ]
    }
   ],
   "source": [
    "def people_2():\n",
    "    for i in range(3, 9):\n",
    "        yield {\"ID\": i, \"Name\": f\"Person_{i}\", \"Age\": 30 + i, \"City\": \"City_B\", \"Occupation\": f\"Job_{i}\"}\n",
    "        \n",
    "# run the pipeline with default settings, and capture the outcome\n",
    "info = pipeline.run(people_2(), \n",
    "                    table_name=\"homework_table_2\", \n",
    "                    write_disposition=\"merge\",\n",
    "                    primary_key='ID'\n",
    "                   # merge_key=\"ID\"\n",
    "                   )\n",
    "\n",
    "# show the outcome\n",
    "print(info)"
   ]
  },
  {
   "cell_type": "code",
   "execution_count": 58,
   "id": "ae2b4ee1",
   "metadata": {},
   "outputs": [
    {
     "name": "stdout",
     "output_type": "stream",
     "text": [
      "Loaded tables: \n"
     ]
    },
    {
     "data": {
      "text/plain": [
       "┌─────────────────────┐\n",
       "│        name         │\n",
       "│       varchar       │\n",
       "├─────────────────────┤\n",
       "│ _dlt_loads          │\n",
       "│ _dlt_loads          │\n",
       "│ _dlt_pipeline_state │\n",
       "│ _dlt_pipeline_state │\n",
       "│ _dlt_version        │\n",
       "│ _dlt_version        │\n",
       "│ _dlt_version        │\n",
       "│ _dlt_version        │\n",
       "│ homework_table      │\n",
       "│ homework_table      │\n",
       "│ homework_table_1    │\n",
       "│ homework_table_2    │\n",
       "│ homework_table_2    │\n",
       "├─────────────────────┤\n",
       "│       13 rows       │\n",
       "└─────────────────────┘"
      ]
     },
     "metadata": {},
     "output_type": "display_data"
    }
   ],
   "source": [
    "# show outcome\n",
    "import duckdb\n",
    "\n",
    "conn = duckdb.connect(f\"{pipeline.pipeline_name}.duckdb\")\n",
    "\n",
    "# let's see the tables\n",
    "conn.sql(f\"SET search_path = '{pipeline.dataset_name}'\")\n",
    "print('Loaded tables: ')\n",
    "display(conn.sql(\"show tables\"))"
   ]
  },
  {
   "cell_type": "code",
   "execution_count": 59,
   "id": "98796f80",
   "metadata": {},
   "outputs": [
    {
     "name": "stdout",
     "output_type": "stream",
     "text": [
      "\n",
      "\n",
      "\n",
      " http_download table below:\n"
     ]
    },
    {
     "data": {
      "text/html": [
       "<div>\n",
       "<style scoped>\n",
       "    .dataframe tbody tr th:only-of-type {\n",
       "        vertical-align: middle;\n",
       "    }\n",
       "\n",
       "    .dataframe tbody tr th {\n",
       "        vertical-align: top;\n",
       "    }\n",
       "\n",
       "    .dataframe thead th {\n",
       "        text-align: right;\n",
       "    }\n",
       "</style>\n",
       "<table border=\"1\" class=\"dataframe\">\n",
       "  <thead>\n",
       "    <tr style=\"text-align: right;\">\n",
       "      <th></th>\n",
       "      <th>id</th>\n",
       "      <th>name</th>\n",
       "      <th>age</th>\n",
       "      <th>city</th>\n",
       "      <th>_dlt_load_id</th>\n",
       "      <th>_dlt_id</th>\n",
       "      <th>occupation</th>\n",
       "    </tr>\n",
       "  </thead>\n",
       "  <tbody>\n",
       "    <tr>\n",
       "      <th>0</th>\n",
       "      <td>1</td>\n",
       "      <td>Person_1</td>\n",
       "      <td>26</td>\n",
       "      <td>City_A</td>\n",
       "      <td>1708299052.3107886</td>\n",
       "      <td>fqxrPENz7BhwPg</td>\n",
       "      <td>NaN</td>\n",
       "    </tr>\n",
       "    <tr>\n",
       "      <th>1</th>\n",
       "      <td>2</td>\n",
       "      <td>Person_2</td>\n",
       "      <td>27</td>\n",
       "      <td>City_A</td>\n",
       "      <td>1708299052.3107886</td>\n",
       "      <td>6bWsrfRRHx2L4g</td>\n",
       "      <td>NaN</td>\n",
       "    </tr>\n",
       "    <tr>\n",
       "      <th>2</th>\n",
       "      <td>5</td>\n",
       "      <td>Person_5</td>\n",
       "      <td>35</td>\n",
       "      <td>City_B</td>\n",
       "      <td>1708299054.4555738</td>\n",
       "      <td>bCLTNv7LrzKv0g</td>\n",
       "      <td>Job_5</td>\n",
       "    </tr>\n",
       "    <tr>\n",
       "      <th>3</th>\n",
       "      <td>3</td>\n",
       "      <td>Person_3</td>\n",
       "      <td>33</td>\n",
       "      <td>City_B</td>\n",
       "      <td>1708299054.4555738</td>\n",
       "      <td>QSpSpd5CueTmIg</td>\n",
       "      <td>Job_3</td>\n",
       "    </tr>\n",
       "    <tr>\n",
       "      <th>4</th>\n",
       "      <td>4</td>\n",
       "      <td>Person_4</td>\n",
       "      <td>34</td>\n",
       "      <td>City_B</td>\n",
       "      <td>1708299054.4555738</td>\n",
       "      <td>CMwXOfHdC0qyPg</td>\n",
       "      <td>Job_4</td>\n",
       "    </tr>\n",
       "    <tr>\n",
       "      <th>5</th>\n",
       "      <td>6</td>\n",
       "      <td>Person_6</td>\n",
       "      <td>36</td>\n",
       "      <td>City_B</td>\n",
       "      <td>1708299054.4555738</td>\n",
       "      <td>Mrn4VjXzo5+rug</td>\n",
       "      <td>Job_6</td>\n",
       "    </tr>\n",
       "    <tr>\n",
       "      <th>6</th>\n",
       "      <td>7</td>\n",
       "      <td>Person_7</td>\n",
       "      <td>37</td>\n",
       "      <td>City_B</td>\n",
       "      <td>1708299054.4555738</td>\n",
       "      <td>Ir/3CChTo/Ts1w</td>\n",
       "      <td>Job_7</td>\n",
       "    </tr>\n",
       "    <tr>\n",
       "      <th>7</th>\n",
       "      <td>8</td>\n",
       "      <td>Person_8</td>\n",
       "      <td>38</td>\n",
       "      <td>City_B</td>\n",
       "      <td>1708299054.4555738</td>\n",
       "      <td>rvccV9wgjfsylw</td>\n",
       "      <td>Job_8</td>\n",
       "    </tr>\n",
       "  </tbody>\n",
       "</table>\n",
       "</div>"
      ],
      "text/plain": [
       "   id      name  age    city        _dlt_load_id         _dlt_id occupation\n",
       "0   1  Person_1   26  City_A  1708299052.3107886  fqxrPENz7BhwPg        NaN\n",
       "1   2  Person_2   27  City_A  1708299052.3107886  6bWsrfRRHx2L4g        NaN\n",
       "2   5  Person_5   35  City_B  1708299054.4555738  bCLTNv7LrzKv0g      Job_5\n",
       "3   3  Person_3   33  City_B  1708299054.4555738  QSpSpd5CueTmIg      Job_3\n",
       "4   4  Person_4   34  City_B  1708299054.4555738  CMwXOfHdC0qyPg      Job_4\n",
       "5   6  Person_6   36  City_B  1708299054.4555738  Mrn4VjXzo5+rug      Job_6\n",
       "6   7  Person_7   37  City_B  1708299054.4555738  Ir/3CChTo/Ts1w      Job_7\n",
       "7   8  Person_8   38  City_B  1708299054.4555738  rvccV9wgjfsylw      Job_8"
      ]
     },
     "metadata": {},
     "output_type": "display_data"
    }
   ],
   "source": [
    "# and the data\n",
    "\n",
    "print(\"\\n\\n\\n http_download table below:\")\n",
    "\n",
    "rides = conn.sql(\"SELECT * FROM homework_table_2\").df()\n",
    "display(rides)\n",
    "\n",
    "# As you can see, the same data was loaded in both cases."
   ]
  },
  {
   "cell_type": "code",
   "execution_count": 60,
   "id": "1957cbcd",
   "metadata": {},
   "outputs": [
    {
     "data": {
      "text/html": [
       "<div>\n",
       "<style scoped>\n",
       "    .dataframe tbody tr th:only-of-type {\n",
       "        vertical-align: middle;\n",
       "    }\n",
       "\n",
       "    .dataframe tbody tr th {\n",
       "        vertical-align: top;\n",
       "    }\n",
       "\n",
       "    .dataframe thead th {\n",
       "        text-align: right;\n",
       "    }\n",
       "</style>\n",
       "<table border=\"1\" class=\"dataframe\">\n",
       "  <thead>\n",
       "    <tr style=\"text-align: right;\">\n",
       "      <th></th>\n",
       "      <th>sum(age)</th>\n",
       "    </tr>\n",
       "  </thead>\n",
       "  <tbody>\n",
       "    <tr>\n",
       "      <th>0</th>\n",
       "      <td>266.0</td>\n",
       "    </tr>\n",
       "  </tbody>\n",
       "</table>\n",
       "</div>"
      ],
      "text/plain": [
       "   sum(age)\n",
       "0     266.0"
      ]
     },
     "metadata": {},
     "output_type": "display_data"
    }
   ],
   "source": [
    "rides = conn.sql(\"SELECT SUM(age) FROM homework_table_2\").df()\n",
    "display(rides)"
   ]
  }
 ],
 "metadata": {
  "kernelspec": {
   "display_name": "Python [conda env:.conda-zoom]",
   "language": "python",
   "name": "conda-env-.conda-zoom-py"
  },
  "language_info": {
   "codemirror_mode": {
    "name": "ipython",
    "version": 3
   },
   "file_extension": ".py",
   "mimetype": "text/x-python",
   "name": "python",
   "nbconvert_exporter": "python",
   "pygments_lexer": "ipython3",
   "version": "3.9.16"
  }
 },
 "nbformat": 4,
 "nbformat_minor": 5
}
