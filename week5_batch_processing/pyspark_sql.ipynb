{
 "cells": [
  {
   "cell_type": "code",
   "execution_count": 32,
   "id": "770ffdf0",
   "metadata": {},
   "outputs": [],
   "source": [
    "import pyspark\n",
    "from pyspark.sql import SparkSession\n",
    "\n",
    "# create the SparkSession locally with as many CPUs cores as possible\n",
    "spark = SparkSession.builder \\\n",
    "    .master(\"local[*]\") \\\n",
    "    .appName('test') \\\n",
    "    .getOrCreate()"
   ]
  },
  {
   "cell_type": "markdown",
   "id": "77252ed1",
   "metadata": {},
   "source": [
    "**Open the Spark UI at http://localhost:4040/**"
   ]
  },
  {
   "cell_type": "code",
   "execution_count": 33,
   "id": "d3740a81",
   "metadata": {},
   "outputs": [
    {
     "data": {
      "text/plain": [
       "Row(VendorID=2, pickup_datetime=datetime.datetime(2020, 1, 22, 13, 18, 32), dropoff_datetime=datetime.datetime(2020, 1, 22, 13, 45, 58), store_and_fwd_flag='N', RatecodeID=1, PULocationID=244, DOLocationID=41, passenger_count=1, trip_distance=5.22, fare_amount=22.0, extra=0.0, mta_tax=0.5, tip_amount=0.0, tolls_amount=0.0, ehail_fee=None, improvement_surcharge=0.3, total_amount=22.8, payment_type=1, trip_type=1, congestion_surcharge=0.0)"
      ]
     },
     "execution_count": 33,
     "metadata": {},
     "output_type": "execute_result"
    }
   ],
   "source": [
    "# load in all green data into a Spark DataFrame\n",
    "df_green = spark.read.parquet('./data/parquet/green/*/*')\n",
    "\n",
    "# rename some columns via PySpark function to match up with yellow (will also be renamed)\n",
    "df_green = df_green \\\n",
    "    .withColumnRenamed('lpep_pickup_datetime', 'pickup_datetime') \\\n",
    "    .withColumnRenamed('lpep_dropoff_datetime', 'dropoff_datetime')\n",
    "\n",
    "df_green.head()"
   ]
  },
  {
   "cell_type": "code",
   "execution_count": 34,
   "id": "e4936230",
   "metadata": {},
   "outputs": [
    {
     "data": {
      "text/plain": [
       "Row(VendorID=1, pickup_datetime=datetime.datetime(2020, 1, 1, 19, 45, 57), dropoff_datetime=datetime.datetime(2020, 1, 1, 20, 6, 13), passenger_count=1, trip_distance=6.1, RatecodeID=1, store_and_fwd_flag='N', PULocationID=162, DOLocationID=87, payment_type=1, fare_amount=21.0, extra=2.5, mta_tax=0.5, tip_amount=4.85, tolls_amount=0.0, improvement_surcharge=0.3, total_amount=29.15, congestion_surcharge=2.5)"
      ]
     },
     "execution_count": 34,
     "metadata": {},
     "output_type": "execute_result"
    }
   ],
   "source": [
    "# load in all yellow data into a Spark DataFrame\n",
    "df_yellow = spark.read.parquet('./data/parquet/yellow/*/*')\n",
    "\n",
    "# rename some columns via PySpark function to match up with green\n",
    "df_yellow = df_yellow \\\n",
    "    .withColumnRenamed('tpep_pickup_datetime', 'pickup_datetime') \\\n",
    "    .withColumnRenamed('tpep_dropoff_datetime', 'dropoff_datetime')\n",
    "\n",
    "df_yellow.head()"
   ]
  },
  {
   "cell_type": "markdown",
   "id": "1e89b20f",
   "metadata": {},
   "source": [
    "**We want to eventually combine these two datasets into one large dataset**"
   ]
  },
  {
   "cell_type": "code",
   "execution_count": 35,
   "id": "1e1cf9d5",
   "metadata": {},
   "outputs": [
    {
     "name": "stdout",
     "output_type": "stream",
     "text": [
      "2304517\n",
      "39649199\n"
     ]
    }
   ],
   "source": [
    "print(df_green.count())\n",
    "print(df_yellow.count())"
   ]
  },
  {
   "cell_type": "code",
   "execution_count": 36,
   "id": "be8813ae",
   "metadata": {},
   "outputs": [
    {
     "name": "stdout",
     "output_type": "stream",
     "text": [
      "{'PULocationID', 'DOLocationID', 'tip_amount', 'trip_distance', 'total_amount', 'pickup_datetime', 'congestion_surcharge', 'improvement_surcharge', 'VendorID', 'fare_amount', 'tolls_amount', 'passenger_count', 'dropoff_datetime', 'payment_type', 'mta_tax', 'store_and_fwd_flag', 'RatecodeID', 'extra'}\n"
     ]
    }
   ],
   "source": [
    "# GET ALL COMMON COLUMNS BETWEEN THESE TWO DATASETS\n",
    "common_columns = []\n",
    "\n",
    "# get the set of unique columns from the yellow data\n",
    "yellow_columns = set(df_yellow.columns)\n",
    "print(yellow_columns)"
   ]
  },
  {
   "cell_type": "code",
   "execution_count": 37,
   "id": "2634767e",
   "metadata": {},
   "outputs": [
    {
     "name": "stdout",
     "output_type": "stream",
     "text": [
      "['VendorID', 'pickup_datetime', 'dropoff_datetime', 'store_and_fwd_flag', 'RatecodeID', 'PULocationID', 'DOLocationID', 'passenger_count', 'trip_distance', 'fare_amount', 'extra', 'mta_tax', 'tip_amount', 'tolls_amount', 'improvement_surcharge', 'total_amount', 'payment_type', 'congestion_surcharge']\n"
     ]
    }
   ],
   "source": [
    "# get all columns from the yellow dataset that are also in the green dataset\n",
    "#     and preserve order of cols\n",
    "for col in df_green.columns:\n",
    "    if col in yellow_columns:\n",
    "        common_columns.append(col)\n",
    "        \n",
    "print(common_columns)"
   ]
  },
  {
   "cell_type": "code",
   "execution_count": 38,
   "id": "75f234d3",
   "metadata": {},
   "outputs": [],
   "source": [
    "from pyspark.sql import functions as F"
   ]
  },
  {
   "cell_type": "markdown",
   "id": "b7025826",
   "metadata": {},
   "source": [
    "**`.withColumn()` is a transformation function of a Spark DataFrame which is used to change the value, convert the datatype of an existing column, create a new column, and many more**\n",
    "- https://sparkbyexamples.com/pyspark/pyspark-withcolumn/\n",
    "\n",
    "**`pyspark.sql.functions.lit` is used to add a new column to DataFrame by assigning a literal or constant value**\n",
    "- https://sparkbyexamples.com/pyspark/pyspark-lit-add-literal-constant/"
   ]
  },
  {
   "cell_type": "code",
   "execution_count": 39,
   "id": "0c8760e3",
   "metadata": {},
   "outputs": [],
   "source": [
    "# get all columns from green that are a part of the common columns\n",
    "# and then add a new service_type column with value of 'green'\n",
    "df_green_sel = df_green \\\n",
    "    .select(common_columns) \\\n",
    "    .withColumn('service_type', F.lit('green'))\n",
    "\n",
    "# get all columns from yellow that are a part of the common columns\n",
    "# and then add a new service_type column with value of 'yellow'\n",
    "df_yellow_sel = df_yellow \\\n",
    "    .select(common_columns) \\\n",
    "    .withColumn('service_type', F.lit('yellow'))"
   ]
  },
  {
   "cell_type": "code",
   "execution_count": 41,
   "id": "c7277165",
   "metadata": {},
   "outputs": [],
   "source": [
    "# union the datasets together\n",
    "df_trips_data = df_green_sel.unionAll(df_yellow_sel)"
   ]
  },
  {
   "cell_type": "code",
   "execution_count": 42,
   "id": "b2cd9cb0",
   "metadata": {},
   "outputs": [
    {
     "name": "stdout",
     "output_type": "stream",
     "text": [
      "+------------+--------+\n",
      "|service_type|   count|\n",
      "+------------+--------+\n",
      "|       green| 2304517|\n",
      "|      yellow|39649199|\n",
      "+------------+--------+\n",
      "\n"
     ]
    }
   ],
   "source": [
    "# inspect the data\n",
    "df_trips_data.groupBy('service_type').count().show()"
   ]
  },
  {
   "cell_type": "code",
   "execution_count": 43,
   "id": "ad372da1",
   "metadata": {},
   "outputs": [
    {
     "data": {
      "text/plain": [
       "['VendorID',\n",
       " 'pickup_datetime',\n",
       " 'dropoff_datetime',\n",
       " 'store_and_fwd_flag',\n",
       " 'RatecodeID',\n",
       " 'PULocationID',\n",
       " 'DOLocationID',\n",
       " 'passenger_count',\n",
       " 'trip_distance',\n",
       " 'fare_amount',\n",
       " 'extra',\n",
       " 'mta_tax',\n",
       " 'tip_amount',\n",
       " 'tolls_amount',\n",
       " 'improvement_surcharge',\n",
       " 'total_amount',\n",
       " 'payment_type',\n",
       " 'congestion_surcharge',\n",
       " 'service_type']"
      ]
     },
     "execution_count": 43,
     "metadata": {},
     "output_type": "execute_result"
    }
   ],
   "source": [
    "# view the columns\n",
    "df_trips_data.columns"
   ]
  },
  {
   "cell_type": "markdown",
   "id": "63f5a437",
   "metadata": {},
   "source": [
    "**In order to use Spark SQL, we have to tell Spark that our DataFrame is a table**"
   ]
  },
  {
   "cell_type": "code",
   "execution_count": 56,
   "id": "5c23151b",
   "metadata": {},
   "outputs": [],
   "source": [
    "# tell Spark that our DataFrame is a table\n",
    "# df_trips_data.registerTempTable('trips_data')  # deprecated\n",
    "df_trips_data.createOrReplaceTempView('trips_data')"
   ]
  },
  {
   "cell_type": "code",
   "execution_count": 46,
   "id": "dc7cdbea",
   "metadata": {},
   "outputs": [
    {
     "name": "stdout",
     "output_type": "stream",
     "text": [
      "+------------+--------+\n",
      "|service_type|count(1)|\n",
      "+------------+--------+\n",
      "|       green| 2304517|\n",
      "|      yellow|39649199|\n",
      "+------------+--------+\n",
      "\n"
     ]
    }
   ],
   "source": [
    "# do some Spark SQL on the data\n",
    "spark.sql(\"\"\"\n",
    "SELECT\n",
    "    service_type,\n",
    "    count(1)\n",
    "FROM\n",
    "    trips_data\n",
    "GROUP BY \n",
    "    service_type\n",
    "\"\"\").show()"
   ]
  },
  {
   "cell_type": "code",
   "execution_count": 47,
   "id": "450de5e4",
   "metadata": {},
   "outputs": [],
   "source": [
    "# save a SQL result to a NEW DataFrame, similar to our dbt models\n",
    "# Get all revenue for each pickup zone/revenue location, for each service type, for each month\n",
    "df_result = spark.sql(\"\"\"\n",
    "SELECT \n",
    "    -- Reveneue grouping \n",
    "    PULocationID AS revenue_zone,\n",
    "    date_trunc('month', pickup_datetime) AS revenue_month, \n",
    "    service_type, \n",
    "\n",
    "    -- Revenue calculation \n",
    "    SUM(fare_amount) AS revenue_monthly_fare,\n",
    "    SUM(extra) AS revenue_monthly_extra,\n",
    "    SUM(mta_tax) AS revenue_monthly_mta_tax,\n",
    "    SUM(tip_amount) AS revenue_monthly_tip_amount,\n",
    "    SUM(tolls_amount) AS revenue_monthly_tolls_amount,\n",
    "    SUM(improvement_surcharge) AS revenue_monthly_improvement_surcharge,\n",
    "    SUM(total_amount) AS revenue_monthly_total_amount,\n",
    "    SUM(congestion_surcharge) AS revenue_monthly_congestion_surcharge,\n",
    "\n",
    "    -- Additional calculations\n",
    "    AVG(passenger_count) AS avg_montly_passenger_count,\n",
    "    AVG(trip_distance) AS avg_montly_trip_distance\n",
    "FROM\n",
    "    trips_data\n",
    "GROUP BY\n",
    "    1, 2, 3\n",
    "\"\"\")"
   ]
  },
  {
   "cell_type": "code",
   "execution_count": 49,
   "id": "74b449b8",
   "metadata": {},
   "outputs": [
    {
     "name": "stdout",
     "output_type": "stream",
     "text": [
      "+------------+-------------------+------------+--------------------+---------------------+-----------------------+--------------------------+----------------------------+-------------------------------------+----------------------------+------------------------------------+--------------------------+------------------------+\n",
      "|revenue_zone|      revenue_month|service_type|revenue_monthly_fare|revenue_monthly_extra|revenue_monthly_mta_tax|revenue_monthly_tip_amount|revenue_monthly_tolls_amount|revenue_monthly_improvement_surcharge|revenue_monthly_total_amount|revenue_monthly_congestion_surcharge|avg_montly_passenger_count|avg_montly_trip_distance|\n",
      "+------------+-------------------+------------+--------------------+---------------------+-----------------------+--------------------------+----------------------------+-------------------------------------+----------------------------+------------------------------------+--------------------------+------------------------+\n",
      "|         218|2020-01-01 00:00:00|       green|  24689.350000000126|              1561.75|                  121.5|                      18.7|           735.9000000000004|                    246.0000000000036|          27375.149999999958|                                 0.0|        1.0754716981132075|       6.732052451539335|\n",
      "|          85|2020-01-01 00:00:00|       green|   19874.88000000006|               1476.5|                  187.5|        165.89999999999998|           354.6800000000002|                   233.70000000000314|            22320.9099999999|                                11.0|        1.3349753694581281|      4.4563455149501605|\n",
      "|         116|2019-12-01 00:00:00|       green|               21.59|                  1.0|                    1.0|                      4.95|                         0.0|                   0.8999999999999999|          29.439999999999998|                                 0.0|                       1.0|      0.6366666666666666|\n",
      "|         112|2020-01-01 00:00:00|       green|  21761.030000000017|               1034.0|                  703.0|        2487.4200000000014|           308.6100000000001|                    452.7000000000114|           27470.10999999962|                              742.25|        1.2766407904022583|      3.4783365695792865|\n",
      "|          39|2020-01-01 00:00:00|       green|   60305.34999999994|               3876.0|                  491.0|                     29.63|          1069.9199999999996|                    561.0000000000063|           66334.85000000037|                                 0.0|        1.2745098039215685|       6.203130280124502|\n",
      "+------------+-------------------+------------+--------------------+---------------------+-----------------------+--------------------------+----------------------------+-------------------------------------+----------------------------+------------------------------------+--------------------------+------------------------+\n",
      "only showing top 5 rows\n",
      "\n"
     ]
    }
   ],
   "source": [
    "df_result.show(5)"
   ]
  },
  {
   "cell_type": "code",
   "execution_count": 50,
   "id": "307edec6",
   "metadata": {},
   "outputs": [
    {
     "data": {
      "text/plain": [
       "[Row(revenue_zone=218, revenue_month=datetime.datetime(2020, 1, 1, 0, 0), service_type='green', revenue_monthly_fare=24689.350000000126, revenue_monthly_extra=1561.75, revenue_monthly_mta_tax=121.5, revenue_monthly_tip_amount=18.7, revenue_monthly_tolls_amount=735.9000000000004, revenue_monthly_improvement_surcharge=246.0000000000036, revenue_monthly_total_amount=27375.149999999958, revenue_monthly_congestion_surcharge=0.0, avg_montly_passenger_count=1.0754716981132075, avg_montly_trip_distance=6.732052451539335),\n",
       " Row(revenue_zone=85, revenue_month=datetime.datetime(2020, 1, 1, 0, 0), service_type='green', revenue_monthly_fare=19874.88000000006, revenue_monthly_extra=1476.5, revenue_monthly_mta_tax=187.5, revenue_monthly_tip_amount=165.89999999999998, revenue_monthly_tolls_amount=354.6800000000002, revenue_monthly_improvement_surcharge=233.70000000000314, revenue_monthly_total_amount=22320.9099999999, revenue_monthly_congestion_surcharge=11.0, avg_montly_passenger_count=1.3349753694581281, avg_montly_trip_distance=4.4563455149501605),\n",
       " Row(revenue_zone=116, revenue_month=datetime.datetime(2019, 12, 1, 0, 0), service_type='green', revenue_monthly_fare=21.59, revenue_monthly_extra=1.0, revenue_monthly_mta_tax=1.0, revenue_monthly_tip_amount=4.95, revenue_monthly_tolls_amount=0.0, revenue_monthly_improvement_surcharge=0.8999999999999999, revenue_monthly_total_amount=29.439999999999998, revenue_monthly_congestion_surcharge=0.0, avg_montly_passenger_count=1.0, avg_montly_trip_distance=0.6366666666666666),\n",
       " Row(revenue_zone=112, revenue_month=datetime.datetime(2020, 1, 1, 0, 0), service_type='green', revenue_monthly_fare=21761.030000000017, revenue_monthly_extra=1034.0, revenue_monthly_mta_tax=703.0, revenue_monthly_tip_amount=2487.4200000000014, revenue_monthly_tolls_amount=308.6100000000001, revenue_monthly_improvement_surcharge=452.7000000000114, revenue_monthly_total_amount=27470.10999999962, revenue_monthly_congestion_surcharge=742.25, avg_montly_passenger_count=1.2766407904022583, avg_montly_trip_distance=3.4783365695792865),\n",
       " Row(revenue_zone=39, revenue_month=datetime.datetime(2020, 1, 1, 0, 0), service_type='green', revenue_monthly_fare=60305.34999999994, revenue_monthly_extra=3876.0, revenue_monthly_mta_tax=491.0, revenue_monthly_tip_amount=29.63, revenue_monthly_tolls_amount=1069.9199999999996, revenue_monthly_improvement_surcharge=561.0000000000063, revenue_monthly_total_amount=66334.85000000037, revenue_monthly_congestion_surcharge=0.0, avg_montly_passenger_count=1.2745098039215685, avg_montly_trip_distance=6.203130280124502)]"
      ]
     },
     "execution_count": 50,
     "metadata": {},
     "output_type": "execute_result"
    }
   ],
   "source": [
    "df_result.head(5)"
   ]
  },
  {
   "cell_type": "markdown",
   "id": "3d0d7967",
   "metadata": {},
   "source": [
    "**`.coalesce(*cols)` returns the first column that is not null and is *used to decrease the number of partitions in an efficient way***\n",
    "\n",
    "**Can go to the Spark UI after running the next cell to see jobs/tasks running**"
   ]
  },
  {
   "cell_type": "code",
   "execution_count": 51,
   "id": "692bc8f9",
   "metadata": {},
   "outputs": [],
   "source": [
    "# use just 1 partition via .coalesce()\n",
    "df_result.coalesce(1) \\\n",
    "    .write.parquet('data/report/revenue/', mode='overwrite')"
   ]
  },
  {
   "cell_type": "code",
   "execution_count": 54,
   "id": "a9a9f6a7",
   "metadata": {},
   "outputs": [],
   "source": [
    "# !dir data\\report\\revenue\\"
   ]
  }
 ],
 "metadata": {
  "kernelspec": {
   "display_name": "Python [conda env:.conda-zoom]",
   "language": "python",
   "name": "conda-env-.conda-zoom-py"
  },
  "language_info": {
   "codemirror_mode": {
    "name": "ipython",
    "version": 3
   },
   "file_extension": ".py",
   "mimetype": "text/x-python",
   "name": "python",
   "nbconvert_exporter": "python",
   "pygments_lexer": "ipython3",
   "version": "3.9.16"
  }
 },
 "nbformat": 4,
 "nbformat_minor": 5
}
