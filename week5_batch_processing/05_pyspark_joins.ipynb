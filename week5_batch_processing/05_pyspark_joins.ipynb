{
 "cells": [
  {
   "cell_type": "markdown",
   "id": "8837dfc9",
   "metadata": {},
   "source": [
    "# Start the SparkSession"
   ]
  },
  {
   "cell_type": "code",
   "execution_count": 1,
   "id": "3e3182e5",
   "metadata": {},
   "outputs": [],
   "source": [
    "import pandas as pd\n",
    "import pyspark\n",
    "from pyspark.sql import SparkSession\n",
    "\n",
    "# create the SparkSession locally with as many CPUs cores as possible\n",
    "spark = SparkSession.builder \\\n",
    "    .master(\"local[*]\") \\\n",
    "    .appName('test') \\\n",
    "    .getOrCreate()"
   ]
  },
  {
   "cell_type": "code",
   "execution_count": 2,
   "id": "45c270a1",
   "metadata": {},
   "outputs": [],
   "source": [
    "# Read in the GROUP BY'd data from 04_pyspark_groupby.ipynb\n",
    "df_green_revenue = spark.read.parquet('./data/report/revenue/green')\n",
    "df_yellow_revenue = spark.read.parquet('./data/report/revenue/yellow')"
   ]
  },
  {
   "cell_type": "code",
   "execution_count": 3,
   "id": "ad658b47",
   "metadata": {},
   "outputs": [
    {
     "data": {
      "text/plain": [
       "DataFrame[hour: timestamp, zone: int, amount: double, number_records: bigint]"
      ]
     },
     "execution_count": 3,
     "metadata": {},
     "output_type": "execute_result"
    }
   ],
   "source": [
    "# Inspect\n",
    "df_green_revenue"
   ]
  },
  {
   "cell_type": "code",
   "execution_count": 4,
   "id": "2687a39a",
   "metadata": {},
   "outputs": [
    {
     "data": {
      "text/plain": [
       "DataFrame[hour: timestamp, zone: int, amount: double, number_records: bigint]"
      ]
     },
     "execution_count": 4,
     "metadata": {},
     "output_type": "execute_result"
    }
   ],
   "source": [
    "# Inspect\n",
    "df_yellow_revenue"
   ]
  },
  {
   "cell_type": "markdown",
   "id": "d333a746",
   "metadata": {},
   "source": [
    "**So, we have hour of trip, revenue zone, revenue, and number of trips**\n",
    "\n",
    "**Let's JOIN them together**\n",
    "\n",
    "# Join the Data"
   ]
  },
  {
   "cell_type": "code",
   "execution_count": 5,
   "id": "4d245082",
   "metadata": {},
   "outputs": [],
   "source": [
    "# Rename some columns\n",
    "df_green_revenue_tmp = df_green_revenue \\\n",
    "    .withColumnRenamed('amount', 'green_amount') \\\n",
    "    .withColumnRenamed('number_records', 'green_number_records')\n",
    "\n",
    "df_yellow_revenue_tmp = df_yellow_revenue \\\n",
    "    .withColumnRenamed('amount', 'yellow_amount') \\\n",
    "    .withColumnRenamed('number_records', 'yellow_number_records')"
   ]
  },
  {
   "cell_type": "code",
   "execution_count": 6,
   "id": "40b03ee0",
   "metadata": {},
   "outputs": [],
   "source": [
    "# perform an outer JOIN so that we keep ALL records\n",
    "df_join = df_green_revenue_tmp.join(df_yellow_revenue_tmp, on=['hour', 'zone'], how='outer')"
   ]
  },
  {
   "cell_type": "code",
   "execution_count": 7,
   "id": "5ea0b29c",
   "metadata": {},
   "outputs": [
    {
     "data": {
      "text/plain": [
       "[Row(hour=datetime.datetime(2020, 1, 1, 0, 0), zone=4, green_amount=None, green_number_records=None, yellow_amount=1004.3000000000001, yellow_number_records=57),\n",
       " Row(hour=datetime.datetime(2020, 1, 1, 0, 0), zone=10, green_amount=None, green_number_records=None, yellow_amount=42.41, yellow_number_records=2),\n",
       " Row(hour=datetime.datetime(2020, 1, 1, 0, 0), zone=56, green_amount=99.69, green_number_records=3, yellow_amount=18.1, yellow_number_records=2),\n",
       " Row(hour=datetime.datetime(2020, 1, 1, 0, 0), zone=74, green_amount=317.09000000000015, green_number_records=24, yellow_amount=586.2100000000002, yellow_number_records=47),\n",
       " Row(hour=datetime.datetime(2020, 1, 1, 0, 0), zone=88, green_amount=None, green_number_records=None, yellow_amount=823.8000000000002, yellow_number_records=36)]"
      ]
     },
     "execution_count": 7,
     "metadata": {},
     "output_type": "execute_result"
    }
   ],
   "source": [
    "df_join.head(5)"
   ]
  },
  {
   "cell_type": "code",
   "execution_count": 8,
   "id": "ebf744dc",
   "metadata": {},
   "outputs": [
    {
     "name": "stdout",
     "output_type": "stream",
     "text": [
      "+-------------------+----+------------------+--------------------+------------------+---------------------+\n",
      "|               hour|zone|      green_amount|green_number_records|     yellow_amount|yellow_number_records|\n",
      "+-------------------+----+------------------+--------------------+------------------+---------------------+\n",
      "|2020-01-01 00:00:00|   4|              null|                null|1004.3000000000001|                   57|\n",
      "|2020-01-01 00:00:00|  10|              null|                null|             42.41|                    2|\n",
      "|2020-01-01 00:00:00|  56|             99.69|                   3|              18.1|                    2|\n",
      "|2020-01-01 00:00:00|  74|317.09000000000015|                  24| 586.2100000000002|                   47|\n",
      "|2020-01-01 00:00:00|  88|              null|                null| 823.8000000000002|                   36|\n",
      "+-------------------+----+------------------+--------------------+------------------+---------------------+\n",
      "only showing top 5 rows\n",
      "\n"
     ]
    }
   ],
   "source": [
    "df_join.show(5)"
   ]
  },
  {
   "cell_type": "markdown",
   "id": "73960a05",
   "metadata": {},
   "source": [
    "**Can see that 1/1/2020 in zone 56 has both green *and* yellow trips**"
   ]
  },
  {
   "cell_type": "code",
   "execution_count": 9,
   "id": "fb1c35b1",
   "metadata": {},
   "outputs": [],
   "source": [
    "# Write the joined data to a Parquet file\n",
    "df_join.write.parquet('./data/report/revenue/total', mode='overwrite')"
   ]
  },
  {
   "cell_type": "code",
   "execution_count": 10,
   "id": "0608c447",
   "metadata": {},
   "outputs": [
    {
     "name": "stdout",
     "output_type": "stream",
     "text": [
      " Volume in drive C has no label.\n",
      " Volume Serial Number is 08A3-CF2D\n",
      "\n",
      " Directory of C:\\Users\\nimz\\Documents\\de_zoomcamp\\week5_batch_processing\\data\\report\\revenue\n",
      "\n",
      "03/01/2024  07:57 PM    <DIR>          .\n",
      "03/01/2024  07:57 PM    <DIR>          ..\n",
      "02/27/2024  09:11 PM             4,112 .part-00000-596e3dca-5394-4d49-9d44-c8d07b1cacb2-c000.snappy.parquet.crc\n",
      "02/27/2024  09:11 PM                 8 ._SUCCESS.crc\n",
      "02/29/2024  08:34 PM    <DIR>          green\n",
      "02/27/2024  09:11 PM           524,936 part-00000-596e3dca-5394-4d49-9d44-c8d07b1cacb2-c000.snappy.parquet\n",
      "03/01/2024  07:57 PM    <DIR>          total\n",
      "02/29/2024  08:35 PM    <DIR>          yellow\n",
      "02/27/2024  09:11 PM                 0 _SUCCESS\n",
      "               4 File(s)        529,056 bytes\n",
      "               5 Dir(s)  237,492,846,592 bytes free\n"
     ]
    }
   ],
   "source": [
    "!dir data\\report\\revenue"
   ]
  },
  {
   "cell_type": "markdown",
   "id": "dd15591a",
   "metadata": {},
   "source": [
    "# Broadcast Join in Zone Data"
   ]
  },
  {
   "cell_type": "code",
   "execution_count": 11,
   "id": "c7bf8ad6",
   "metadata": {},
   "outputs": [],
   "source": [
    "# Reload the data\n",
    "df_join = spark.read.parquet('./data/report/revenue/total')"
   ]
  },
  {
   "cell_type": "code",
   "execution_count": 12,
   "id": "72f8eef5",
   "metadata": {},
   "outputs": [],
   "source": [
    "# Bring in zone data\n",
    "df_zones = spark.read.parquet('./data/zones/')"
   ]
  },
  {
   "cell_type": "code",
   "execution_count": 13,
   "id": "02ebae4d",
   "metadata": {},
   "outputs": [
    {
     "data": {
      "text/plain": [
       "DataFrame[hour: timestamp, zone: int, green_amount: double, green_number_records: bigint, yellow_amount: double, yellow_number_records: bigint, LocationID: string, Borough: string, Zone: string, service_zone: string]"
      ]
     },
     "execution_count": 13,
     "metadata": {},
     "output_type": "execute_result"
    }
   ],
   "source": [
    "# do a new JOIN with our result along with the zone data\n",
    "df_result = df_join.join(df_zones, on=df_join.zone == df_zones.LocationID)\n",
    "\n",
    "# inspect\n",
    "df_result"
   ]
  },
  {
   "cell_type": "code",
   "execution_count": 14,
   "id": "502a4902",
   "metadata": {},
   "outputs": [
    {
     "data": {
      "text/plain": [
       "[Row(hour=datetime.datetime(2020, 1, 1, 0, 0), zone=17, green_amount=195.03000000000003, green_number_records=9, yellow_amount=220.20999999999998, yellow_number_records=8, LocationID='17', Borough='Brooklyn', Zone='Bedford', service_zone='Boro Zone'),\n",
       " Row(hour=datetime.datetime(2020, 1, 1, 0, 0), zone=22, green_amount=15.8, green_number_records=1, yellow_amount=None, yellow_number_records=None, LocationID='22', Borough='Brooklyn', Zone='Bensonhurst West', service_zone='Boro Zone')]"
      ]
     },
     "execution_count": 14,
     "metadata": {},
     "output_type": "execute_result"
    }
   ],
   "source": [
    "df_result.head(2)"
   ]
  },
  {
   "cell_type": "code",
   "execution_count": 15,
   "id": "73b24274",
   "metadata": {},
   "outputs": [
    {
     "name": "stdout",
     "output_type": "stream",
     "text": [
      "+-------------------+----+------------------+--------------------+------------------+---------------------+----------+---------+--------------------+------------+\n",
      "|               hour|zone|      green_amount|green_number_records|     yellow_amount|yellow_number_records|LocationID|  Borough|                Zone|service_zone|\n",
      "+-------------------+----+------------------+--------------------+------------------+---------------------+----------+---------+--------------------+------------+\n",
      "|2020-01-01 00:00:00|  17|195.03000000000003|                   9|220.20999999999998|                    8|        17| Brooklyn|             Bedford|   Boro Zone|\n",
      "|2020-01-01 00:00:00|  22|              15.8|                   1|              null|                 null|        22| Brooklyn|    Bensonhurst West|   Boro Zone|\n",
      "|2020-01-01 00:00:00|  55|129.29000000000002|                   4|              null|                 null|        55| Brooklyn|        Coney Island|   Boro Zone|\n",
      "|2020-01-01 00:00:00|  79|              null|                null| 12573.81000000003|                  721|        79|Manhattan|        East Village| Yellow Zone|\n",
      "|2020-01-01 00:00:00|  90|              null|                null| 5010.450000000001|                  266|        90|Manhattan|            Flatiron| Yellow Zone|\n",
      "|2020-01-01 00:00:00|  94| 64.24000000000001|                   3|              13.3|                    1|        94|    Bronx|       Fordham South|   Boro Zone|\n",
      "|2020-01-01 00:00:00| 112|312.26000000000005|                  18|119.47999999999999|                    8|       112| Brooklyn|          Greenpoint|   Boro Zone|\n",
      "|2020-01-01 00:00:00| 119| 67.77000000000001|                   4|              47.3|                    2|       119|    Bronx|          Highbridge|   Boro Zone|\n",
      "|2020-01-01 00:00:00| 127|              null|                null|43.900000000000006|                    3|       127|Manhattan|              Inwood|   Boro Zone|\n",
      "|2020-01-01 00:00:00| 133|              null|                null|              27.3|                    1|       133| Brooklyn|          Kensington|   Boro Zone|\n",
      "|2020-01-01 00:00:00| 192|              12.3|                   1|              null|                 null|       192|   Queens|     Queensboro Hill|   Boro Zone|\n",
      "|2020-01-01 00:00:00| 197|             72.01|                   3|              null|                 null|       197|   Queens|       Richmond Hill|   Boro Zone|\n",
      "|2020-01-01 00:00:00| 202|              null|                null|              10.3|                    1|       202|Manhattan|    Roosevelt Island|   Boro Zone|\n",
      "|2020-01-01 00:00:00| 222|              null|                null|             26.36|                    1|       222| Brooklyn|       Starrett City|   Boro Zone|\n",
      "|2020-01-01 00:00:00| 224|              null|                null| 655.1000000000001|                   31|       224|Manhattan|Stuy Town/Peter C...| Yellow Zone|\n",
      "|2020-01-01 00:00:00| 243|            205.32|                  10|            217.53|                    9|       243|Manhattan|Washington Height...|   Boro Zone|\n",
      "|2020-01-01 00:00:00| 250|114.16999999999999|                   6|              null|                 null|       250|    Bronx|Westchester Villa...|   Boro Zone|\n",
      "|2020-01-01 01:00:00|  41| 819.4999999999995|                  61|1485.2899999999995|                   98|        41|Manhattan|      Central Harlem|   Boro Zone|\n",
      "|2020-01-01 01:00:00|  49|237.76000000000005|                  15| 581.4100000000001|                   25|        49| Brooklyn|        Clinton Hill|   Boro Zone|\n",
      "|2020-01-01 01:00:00|  74| 606.7400000000001|                  43|1476.3199999999993|                  102|        74|Manhattan|   East Harlem North|   Boro Zone|\n",
      "+-------------------+----+------------------+--------------------+------------------+---------------------+----------+---------+--------------------+------------+\n",
      "only showing top 20 rows\n",
      "\n"
     ]
    }
   ],
   "source": [
    "df_result.show()"
   ]
  },
  {
   "cell_type": "code",
   "execution_count": 16,
   "id": "2de9c011",
   "metadata": {},
   "outputs": [],
   "source": [
    "# Drop un-needed columns\n",
    "df_result = df_result.drop('LocationID', 'zone')"
   ]
  },
  {
   "cell_type": "code",
   "execution_count": 17,
   "id": "261b1eb4",
   "metadata": {},
   "outputs": [
    {
     "name": "stdout",
     "output_type": "stream",
     "text": [
      "+-------------------+------------------+--------------------+------------------+---------------------+---------+------------+\n",
      "|               hour|      green_amount|green_number_records|     yellow_amount|yellow_number_records|  Borough|service_zone|\n",
      "+-------------------+------------------+--------------------+------------------+---------------------+---------+------------+\n",
      "|2020-01-01 00:00:00|195.03000000000003|                   9|220.20999999999998|                    8| Brooklyn|   Boro Zone|\n",
      "|2020-01-01 00:00:00|              15.8|                   1|              null|                 null| Brooklyn|   Boro Zone|\n",
      "|2020-01-01 00:00:00|129.29000000000002|                   4|              null|                 null| Brooklyn|   Boro Zone|\n",
      "|2020-01-01 00:00:00|              null|                null| 12573.81000000003|                  721|Manhattan| Yellow Zone|\n",
      "|2020-01-01 00:00:00|              null|                null| 5010.450000000001|                  266|Manhattan| Yellow Zone|\n",
      "|2020-01-01 00:00:00| 64.24000000000001|                   3|              13.3|                    1|    Bronx|   Boro Zone|\n",
      "|2020-01-01 00:00:00|312.26000000000005|                  18|119.47999999999999|                    8| Brooklyn|   Boro Zone|\n",
      "|2020-01-01 00:00:00| 67.77000000000001|                   4|              47.3|                    2|    Bronx|   Boro Zone|\n",
      "|2020-01-01 00:00:00|              null|                null|43.900000000000006|                    3|Manhattan|   Boro Zone|\n",
      "|2020-01-01 00:00:00|              null|                null|              27.3|                    1| Brooklyn|   Boro Zone|\n",
      "+-------------------+------------------+--------------------+------------------+---------------------+---------+------------+\n",
      "only showing top 10 rows\n",
      "\n"
     ]
    }
   ],
   "source": [
    "# See that we dropped the columns\n",
    "df_result.show(10)"
   ]
  },
  {
   "cell_type": "code",
   "execution_count": 18,
   "id": "bbbc31ec",
   "metadata": {},
   "outputs": [],
   "source": [
    "# Save to a Parquet file\n",
    "df_result.write.parquet('./data/tmp/revenue-zones')"
   ]
  },
  {
   "cell_type": "code",
   "execution_count": 19,
   "id": "bd8a6c14",
   "metadata": {},
   "outputs": [
    {
     "name": "stdout",
     "output_type": "stream",
     "text": [
      " Volume in drive C has no label.\n",
      " Volume Serial Number is 08A3-CF2D\n",
      "\n",
      " Directory of C:\\Users\\nimz\\Documents\\de_zoomcamp\\week5_batch_processing\\data\\tmp\n",
      "\n",
      "03/01/2024  07:58 PM    <DIR>          .\n",
      "03/01/2024  07:58 PM    <DIR>          ..\n",
      "03/01/2024  07:58 PM    <DIR>          revenue-zones\n",
      "               0 File(s)              0 bytes\n",
      "               3 Dir(s)  237,579,874,304 bytes free\n"
     ]
    }
   ],
   "source": [
    "!dir .\\data\\tmp\\"
   ]
  }
 ],
 "metadata": {
  "kernelspec": {
   "display_name": "Python [conda env:.conda-zoom]",
   "language": "python",
   "name": "conda-env-.conda-zoom-py"
  },
  "language_info": {
   "codemirror_mode": {
    "name": "ipython",
    "version": 3
   },
   "file_extension": ".py",
   "mimetype": "text/x-python",
   "name": "python",
   "nbconvert_exporter": "python",
   "pygments_lexer": "ipython3",
   "version": "3.9.16"
  }
 },
 "nbformat": 4,
 "nbformat_minor": 5
}
