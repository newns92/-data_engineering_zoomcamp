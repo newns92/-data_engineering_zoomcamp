{
 "cells": [
  {
   "cell_type": "code",
   "execution_count": 1,
   "id": "c48b477f",
   "metadata": {},
   "outputs": [],
   "source": [
    "import pyspark\n",
    "from pyspark.sql import SparkSession\n",
    "\n",
    "# create the SparkSession\n",
    "spark = SparkSession.builder \\\n",
    "    .master(\"local[*]\") \\\n",
    "    .appName('test') \\\n",
    "    .getOrCreate()"
   ]
  },
  {
   "cell_type": "code",
   "execution_count": 2,
   "id": "8a445cce",
   "metadata": {},
   "outputs": [],
   "source": [
    "# read in the GROUP BY'd data\n",
    "df_green_revenue = spark.read.parquet('data/report/revenue/green')\n",
    "df_yellow_revenue = spark.read.parquet('data/report/revenue/yellow')"
   ]
  },
  {
   "cell_type": "code",
   "execution_count": 10,
   "id": "876ba1c1",
   "metadata": {},
   "outputs": [
    {
     "data": {
      "text/plain": [
       "DataFrame[hour: timestamp, zone: int, amount: double, number_records: bigint]"
      ]
     },
     "execution_count": 10,
     "metadata": {},
     "output_type": "execute_result"
    }
   ],
   "source": [
    "# inspect\n",
    "df_green_revenue"
   ]
  },
  {
   "cell_type": "code",
   "execution_count": 11,
   "id": "e9d22d56",
   "metadata": {},
   "outputs": [
    {
     "data": {
      "text/plain": [
       "DataFrame[hour: timestamp, zone: int, amount: double, number_records: bigint]"
      ]
     },
     "execution_count": 11,
     "metadata": {},
     "output_type": "execute_result"
    }
   ],
   "source": [
    "# inspect\n",
    "df_yellow_revenue"
   ]
  },
  {
   "cell_type": "markdown",
   "id": "36144a1b",
   "metadata": {},
   "source": [
    "**So, we have hour of trip, revenue zone, revenue, and number of trips**\n",
    "\n",
    "**Let's join them together**"
   ]
  },
  {
   "cell_type": "code",
   "execution_count": 3,
   "id": "ebff9f33",
   "metadata": {},
   "outputs": [],
   "source": [
    "# rename some cols\n",
    "df_green_revenue_tmp = df_green_revenue \\\n",
    "    .withColumnRenamed('amount', 'green_amount') \\\n",
    "    .withColumnRenamed('number_records', 'green_number_records')\n",
    "\n",
    "df_yellow_revenue_tmp = df_yellow_revenue \\\n",
    "    .withColumnRenamed('amount', 'yellow_amount') \\\n",
    "    .withColumnRenamed('number_records', 'yellow_number_records')"
   ]
  },
  {
   "cell_type": "code",
   "execution_count": 4,
   "id": "d8ffb042",
   "metadata": {},
   "outputs": [],
   "source": [
    "# perform an outer JOIN so that we keep ALL records\n",
    "df_join = df_green_revenue_tmp.join(df_yellow_revenue_tmp, on=['hour', 'zone'], how='outer')"
   ]
  },
  {
   "cell_type": "code",
   "execution_count": 5,
   "id": "597a194a",
   "metadata": {},
   "outputs": [
    {
     "data": {
      "text/plain": [
       "[Row(hour=datetime.datetime(2020, 1, 1, 0, 0), zone=4, green_amount=None, green_number_records=None, yellow_amount=1004.3000000000001, yellow_number_records=57),\n",
       " Row(hour=datetime.datetime(2020, 1, 1, 0, 0), zone=10, green_amount=None, green_number_records=None, yellow_amount=42.41, yellow_number_records=2),\n",
       " Row(hour=datetime.datetime(2020, 1, 1, 0, 0), zone=56, green_amount=99.69, green_number_records=3, yellow_amount=18.1, yellow_number_records=2),\n",
       " Row(hour=datetime.datetime(2020, 1, 1, 0, 0), zone=74, green_amount=317.09000000000015, green_number_records=24, yellow_amount=586.2100000000002, yellow_number_records=47),\n",
       " Row(hour=datetime.datetime(2020, 1, 1, 0, 0), zone=88, green_amount=None, green_number_records=None, yellow_amount=823.8000000000002, yellow_number_records=36)]"
      ]
     },
     "execution_count": 5,
     "metadata": {},
     "output_type": "execute_result"
    }
   ],
   "source": [
    "df_join.head(5)"
   ]
  },
  {
   "cell_type": "markdown",
   "id": "b627bda5",
   "metadata": {},
   "source": [
    "**Can see that 1/1/2020 in zone 56 has both green *and* yellow trips"
   ]
  },
  {
   "cell_type": "code",
   "execution_count": 17,
   "id": "ac13c21c",
   "metadata": {},
   "outputs": [
    {
     "name": "stdout",
     "output_type": "stream",
     "text": [
      "+-------------------+----+------------------+--------------------+------------------+---------------------+\n",
      "|               hour|zone|      green_amount|green_number_records|     yellow_amount|yellow_number_records|\n",
      "+-------------------+----+------------------+--------------------+------------------+---------------------+\n",
      "|2020-01-01 00:00:00|  17|195.03000000000003|                   9|220.20999999999998|                    8|\n",
      "|2020-01-01 00:00:00|  22|              15.8|                   1|              null|                 null|\n",
      "|2020-01-01 00:00:00|  55|129.29000000000002|                   4|              null|                 null|\n",
      "|2020-01-01 00:00:00|  79|              null|                null| 12573.81000000003|                  721|\n",
      "|2020-01-01 00:00:00|  90|              null|                null| 5010.450000000001|                  266|\n",
      "|2020-01-01 00:00:00|  94| 64.24000000000001|                   3|              13.3|                    1|\n",
      "|2020-01-01 00:00:00| 112|312.26000000000005|                  18|119.47999999999999|                    8|\n",
      "|2020-01-01 00:00:00| 119| 67.77000000000001|                   4|              47.3|                    2|\n",
      "|2020-01-01 00:00:00| 127|              null|                null|43.900000000000006|                    3|\n",
      "|2020-01-01 00:00:00| 133|              null|                null|              27.3|                    1|\n",
      "|2020-01-01 00:00:00| 192|              12.3|                   1|              null|                 null|\n",
      "|2020-01-01 00:00:00| 197|             72.01|                   3|              null|                 null|\n",
      "|2020-01-01 00:00:00| 202|              null|                null|              10.3|                    1|\n",
      "|2020-01-01 00:00:00| 222|              null|                null|             26.36|                    1|\n",
      "|2020-01-01 00:00:00| 224|              null|                null| 655.1000000000001|                   31|\n",
      "|2020-01-01 00:00:00| 243|            205.32|                  10|            217.53|                    9|\n",
      "|2020-01-01 00:00:00| 250|114.16999999999999|                   6|              null|                 null|\n",
      "|2020-01-01 01:00:00|  41| 819.4999999999995|                  61|1485.2899999999995|                   98|\n",
      "|2020-01-01 01:00:00|  49|237.76000000000005|                  15| 581.4100000000001|                   25|\n",
      "|2020-01-01 01:00:00|  74| 606.7400000000001|                  43|1476.3199999999993|                  102|\n",
      "+-------------------+----+------------------+--------------------+------------------+---------------------+\n",
      "only showing top 20 rows\n",
      "\n"
     ]
    }
   ],
   "source": [
    "# get a clearer view of the DataFrame\n",
    "df_join.show()"
   ]
  },
  {
   "cell_type": "code",
   "execution_count": 6,
   "id": "b4cfd182",
   "metadata": {},
   "outputs": [],
   "source": [
    "# write it to a parquet file\n",
    "df_join.write.parquet('data/report/revenue/total', mode='overwrite')"
   ]
  },
  {
   "cell_type": "code",
   "execution_count": 30,
   "id": "e2cdf252",
   "metadata": {},
   "outputs": [
    {
     "name": "stdout",
     "output_type": "stream",
     "text": [
      " Volume in drive C has no label.\n",
      " Volume Serial Number is 08A3-CF2D\n",
      "\n",
      " Directory of C:\\Users\\nimz\\Documents\\de_zoomcamp\\week5_batch_processing\\data\\report\\revenue\n",
      "\n",
      "05/11/2023  06:34 PM    <DIR>          .\n",
      "05/11/2023  06:34 PM    <DIR>          ..\n",
      "05/10/2023  08:23 PM             4,112 .part-00000-4d08fcbf-7bc4-4e81-919e-d02e064ec875-c000.snappy.parquet.crc\n",
      "05/10/2023  08:23 PM                 8 ._SUCCESS.crc\n",
      "05/10/2023  08:55 PM    <DIR>          green\n",
      "05/10/2023  08:23 PM           524,936 part-00000-4d08fcbf-7bc4-4e81-919e-d02e064ec875-c000.snappy.parquet\n",
      "05/11/2023  06:34 PM    <DIR>          total\n",
      "05/10/2023  09:06 PM    <DIR>          yellow\n",
      "05/10/2023  08:23 PM                 0 _SUCCESS\n",
      "               4 File(s)        529,056 bytes\n",
      "               5 Dir(s)  370,382,725,120 bytes free\n"
     ]
    }
   ],
   "source": [
    "!dir data\\report\\revenue"
   ]
  },
  {
   "cell_type": "code",
   "execution_count": 19,
   "id": "ec77144d",
   "metadata": {},
   "outputs": [],
   "source": [
    "# reload it\n",
    "df_join = spark.read.parquet('data/report/revenue/total')"
   ]
  },
  {
   "cell_type": "code",
   "execution_count": 20,
   "id": "5ea01028",
   "metadata": {},
   "outputs": [
    {
     "data": {
      "text/plain": [
       "DataFrame[hour: timestamp, zone: int, green_amount: double, green_number_records: bigint, yellow_amount: double, yellow_number_records: bigint]"
      ]
     },
     "execution_count": 20,
     "metadata": {},
     "output_type": "execute_result"
    }
   ],
   "source": [
    "# inspect\n",
    "df_join"
   ]
  },
  {
   "cell_type": "code",
   "execution_count": 21,
   "id": "5aaecf01",
   "metadata": {},
   "outputs": [],
   "source": [
    "# bring in zone data\n",
    "df_zones = spark.read.parquet('zones/')"
   ]
  },
  {
   "cell_type": "code",
   "execution_count": 31,
   "id": "db7ab006",
   "metadata": {},
   "outputs": [
    {
     "data": {
      "text/plain": [
       "DataFrame[hour: timestamp, zone: int, green_amount: double, green_number_records: bigint, yellow_amount: double, yellow_number_records: bigint, LocationID: string, Borough: string, Zone: string, service_zone: string]"
      ]
     },
     "execution_count": 31,
     "metadata": {},
     "output_type": "execute_result"
    }
   ],
   "source": [
    "# do a new JOIN with our result along with the zone data\n",
    "df_result = df_join.join(df_zones, on=df_join.zone == df_zones.LocationID)\n",
    "\n",
    "# inspect\n",
    "df_result"
   ]
  },
  {
   "cell_type": "code",
   "execution_count": 32,
   "id": "5f5eb63b",
   "metadata": {},
   "outputs": [
    {
     "data": {
      "text/plain": [
       "[Row(hour=datetime.datetime(2020, 1, 1, 0, 0), zone=17, green_amount=195.03000000000003, green_number_records=9, yellow_amount=220.20999999999998, yellow_number_records=8, LocationID='17', Borough='Brooklyn', Zone='Bedford', service_zone='Boro Zone'),\n",
       " Row(hour=datetime.datetime(2020, 1, 1, 0, 0), zone=22, green_amount=15.8, green_number_records=1, yellow_amount=None, yellow_number_records=None, LocationID='22', Borough='Brooklyn', Zone='Bensonhurst West', service_zone='Boro Zone')]"
      ]
     },
     "execution_count": 32,
     "metadata": {},
     "output_type": "execute_result"
    }
   ],
   "source": [
    "df_result.head(2)"
   ]
  },
  {
   "cell_type": "code",
   "execution_count": 33,
   "id": "4edbf46d",
   "metadata": {},
   "outputs": [
    {
     "name": "stdout",
     "output_type": "stream",
     "text": [
      "+-------------------+----+------------------+--------------------+------------------+---------------------+----------+---------+--------------------+------------+\n",
      "|               hour|zone|      green_amount|green_number_records|     yellow_amount|yellow_number_records|LocationID|  Borough|                Zone|service_zone|\n",
      "+-------------------+----+------------------+--------------------+------------------+---------------------+----------+---------+--------------------+------------+\n",
      "|2020-01-01 00:00:00|  17|195.03000000000003|                   9|220.20999999999998|                    8|        17| Brooklyn|             Bedford|   Boro Zone|\n",
      "|2020-01-01 00:00:00|  22|              15.8|                   1|              null|                 null|        22| Brooklyn|    Bensonhurst West|   Boro Zone|\n",
      "|2020-01-01 00:00:00|  55|129.29000000000002|                   4|              null|                 null|        55| Brooklyn|        Coney Island|   Boro Zone|\n",
      "|2020-01-01 00:00:00|  79|              null|                null| 12573.81000000003|                  721|        79|Manhattan|        East Village| Yellow Zone|\n",
      "|2020-01-01 00:00:00|  90|              null|                null| 5010.450000000001|                  266|        90|Manhattan|            Flatiron| Yellow Zone|\n",
      "|2020-01-01 00:00:00|  94| 64.24000000000001|                   3|              13.3|                    1|        94|    Bronx|       Fordham South|   Boro Zone|\n",
      "|2020-01-01 00:00:00| 112|312.26000000000005|                  18|119.47999999999999|                    8|       112| Brooklyn|          Greenpoint|   Boro Zone|\n",
      "|2020-01-01 00:00:00| 119| 67.77000000000001|                   4|              47.3|                    2|       119|    Bronx|          Highbridge|   Boro Zone|\n",
      "|2020-01-01 00:00:00| 127|              null|                null|43.900000000000006|                    3|       127|Manhattan|              Inwood|   Boro Zone|\n",
      "|2020-01-01 00:00:00| 133|              null|                null|              27.3|                    1|       133| Brooklyn|          Kensington|   Boro Zone|\n",
      "|2020-01-01 00:00:00| 192|              12.3|                   1|              null|                 null|       192|   Queens|     Queensboro Hill|   Boro Zone|\n",
      "|2020-01-01 00:00:00| 197|             72.01|                   3|              null|                 null|       197|   Queens|       Richmond Hill|   Boro Zone|\n",
      "|2020-01-01 00:00:00| 202|              null|                null|              10.3|                    1|       202|Manhattan|    Roosevelt Island|   Boro Zone|\n",
      "|2020-01-01 00:00:00| 222|              null|                null|             26.36|                    1|       222| Brooklyn|       Starrett City|   Boro Zone|\n",
      "|2020-01-01 00:00:00| 224|              null|                null| 655.1000000000001|                   31|       224|Manhattan|Stuy Town/Peter C...| Yellow Zone|\n",
      "|2020-01-01 00:00:00| 243|            205.32|                  10|            217.53|                    9|       243|Manhattan|Washington Height...|   Boro Zone|\n",
      "|2020-01-01 00:00:00| 250|114.16999999999999|                   6|              null|                 null|       250|    Bronx|Westchester Villa...|   Boro Zone|\n",
      "|2020-01-01 01:00:00|  41| 819.4999999999995|                  61|1485.2899999999995|                   98|        41|Manhattan|      Central Harlem|   Boro Zone|\n",
      "|2020-01-01 01:00:00|  49|237.76000000000005|                  15| 581.4100000000001|                   25|        49| Brooklyn|        Clinton Hill|   Boro Zone|\n",
      "|2020-01-01 01:00:00|  74| 606.7400000000001|                  43|1476.3199999999993|                  102|        74|Manhattan|   East Harlem North|   Boro Zone|\n",
      "+-------------------+----+------------------+--------------------+------------------+---------------------+----------+---------+--------------------+------------+\n",
      "only showing top 20 rows\n",
      "\n"
     ]
    }
   ],
   "source": [
    "# get a clearer view of the DataFrame\n",
    "df_result.show()"
   ]
  },
  {
   "cell_type": "code",
   "execution_count": 34,
   "id": "450d91c4",
   "metadata": {},
   "outputs": [],
   "source": [
    "# drop un-needed columns and save to a temp file\n",
    "df_result = df_result.drop('LocationID', 'zone')"
   ]
  },
  {
   "cell_type": "code",
   "execution_count": 35,
   "id": "ab87baab",
   "metadata": {},
   "outputs": [
    {
     "name": "stdout",
     "output_type": "stream",
     "text": [
      "+-------------------+------------------+--------------------+------------------+---------------------+---------+------------+\n",
      "|               hour|      green_amount|green_number_records|     yellow_amount|yellow_number_records|  Borough|service_zone|\n",
      "+-------------------+------------------+--------------------+------------------+---------------------+---------+------------+\n",
      "|2020-01-01 00:00:00|195.03000000000003|                   9|220.20999999999998|                    8| Brooklyn|   Boro Zone|\n",
      "|2020-01-01 00:00:00|              15.8|                   1|              null|                 null| Brooklyn|   Boro Zone|\n",
      "|2020-01-01 00:00:00|129.29000000000002|                   4|              null|                 null| Brooklyn|   Boro Zone|\n",
      "|2020-01-01 00:00:00|              null|                null| 12573.81000000003|                  721|Manhattan| Yellow Zone|\n",
      "|2020-01-01 00:00:00|              null|                null| 5010.450000000001|                  266|Manhattan| Yellow Zone|\n",
      "|2020-01-01 00:00:00| 64.24000000000001|                   3|              13.3|                    1|    Bronx|   Boro Zone|\n",
      "|2020-01-01 00:00:00|312.26000000000005|                  18|119.47999999999999|                    8| Brooklyn|   Boro Zone|\n",
      "|2020-01-01 00:00:00| 67.77000000000001|                   4|              47.3|                    2|    Bronx|   Boro Zone|\n",
      "|2020-01-01 00:00:00|              null|                null|43.900000000000006|                    3|Manhattan|   Boro Zone|\n",
      "|2020-01-01 00:00:00|              null|                null|              27.3|                    1| Brooklyn|   Boro Zone|\n",
      "|2020-01-01 00:00:00|              12.3|                   1|              null|                 null|   Queens|   Boro Zone|\n",
      "|2020-01-01 00:00:00|             72.01|                   3|              null|                 null|   Queens|   Boro Zone|\n",
      "|2020-01-01 00:00:00|              null|                null|              10.3|                    1|Manhattan|   Boro Zone|\n",
      "|2020-01-01 00:00:00|              null|                null|             26.36|                    1| Brooklyn|   Boro Zone|\n",
      "|2020-01-01 00:00:00|              null|                null| 655.1000000000001|                   31|Manhattan| Yellow Zone|\n",
      "|2020-01-01 00:00:00|            205.32|                  10|            217.53|                    9|Manhattan|   Boro Zone|\n",
      "|2020-01-01 00:00:00|114.16999999999999|                   6|              null|                 null|    Bronx|   Boro Zone|\n",
      "|2020-01-01 01:00:00| 819.4999999999995|                  61|1485.2899999999995|                   98|Manhattan|   Boro Zone|\n",
      "|2020-01-01 01:00:00|237.76000000000005|                  15| 581.4100000000001|                   25| Brooklyn|   Boro Zone|\n",
      "|2020-01-01 01:00:00| 606.7400000000001|                  43|1476.3199999999993|                  102|Manhattan|   Boro Zone|\n",
      "+-------------------+------------------+--------------------+------------------+---------------------+---------+------------+\n",
      "only showing top 20 rows\n",
      "\n"
     ]
    }
   ],
   "source": [
    "# see that we dropped the columns\n",
    "df_result.show()"
   ]
  },
  {
   "cell_type": "code",
   "execution_count": 28,
   "id": "f2ca4ea1",
   "metadata": {},
   "outputs": [],
   "source": [
    "# save to temp parquet file\n",
    "df_result.write.parquet('tmp/revenue-zones')"
   ]
  },
  {
   "cell_type": "code",
   "execution_count": 29,
   "id": "22591b2c",
   "metadata": {},
   "outputs": [
    {
     "name": "stdout",
     "output_type": "stream",
     "text": [
      " Volume in drive C has no label.\n",
      " Volume Serial Number is 08A3-CF2D\n",
      "\n",
      " Directory of C:\\Users\\nimz\\Documents\\de_zoomcamp\\week5_batch_processing\\tmp\n",
      "\n",
      "05/11/2023  06:42 PM    <DIR>          .\n",
      "05/11/2023  06:42 PM    <DIR>          ..\n",
      "05/11/2023  06:42 PM    <DIR>          revenue-zones\n",
      "               0 File(s)              0 bytes\n",
      "               3 Dir(s)  370,378,932,224 bytes free\n"
     ]
    }
   ],
   "source": [
    "!dir tmp\\"
   ]
  }
 ],
 "metadata": {
  "kernelspec": {
   "display_name": "Python [conda env:.conda-zoom]",
   "language": "python",
   "name": "conda-env-.conda-zoom-py"
  },
  "language_info": {
   "codemirror_mode": {
    "name": "ipython",
    "version": 3
   },
   "file_extension": ".py",
   "mimetype": "text/x-python",
   "name": "python",
   "nbconvert_exporter": "python",
   "pygments_lexer": "ipython3",
   "version": "3.9.16"
  }
 },
 "nbformat": 4,
 "nbformat_minor": 5
}
