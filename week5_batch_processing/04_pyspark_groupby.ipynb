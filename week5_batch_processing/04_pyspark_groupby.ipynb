{
 "cells": [
  {
   "cell_type": "markdown",
   "id": "2f2b5425",
   "metadata": {},
   "source": [
    "# Start the Spark Session"
   ]
  },
  {
   "cell_type": "code",
   "execution_count": 1,
   "id": "56e253ef",
   "metadata": {},
   "outputs": [],
   "source": [
    "import pandas as pd\n",
    "import pyspark\n",
    "from pyspark.sql import SparkSession\n",
    "\n",
    "# create the SparkSession locally with as many CPUs cores as possible\n",
    "spark = SparkSession.builder \\\n",
    "    .master(\"local[*]\") \\\n",
    "    .appName('test') \\\n",
    "    .getOrCreate()"
   ]
  },
  {
   "cell_type": "markdown",
   "id": "1adf3efb",
   "metadata": {},
   "source": [
    "# Work with Data"
   ]
  },
  {
   "cell_type": "code",
   "execution_count": 2,
   "id": "0797fa4f",
   "metadata": {},
   "outputs": [],
   "source": [
    "# Get all the green trip data\n",
    "df_green = spark.read.parquet('data/parquet/green/*/*')\n",
    "\n",
    "# Tell Spark that our DataFrame is a table\n",
    "# NOTE: df_trips_data.registerTempTable('trips_data') is deprecated\n",
    "df_green.createOrReplaceTempView('green')"
   ]
  },
  {
   "cell_type": "code",
   "execution_count": 3,
   "id": "cab5de4b",
   "metadata": {},
   "outputs": [
    {
     "name": "stdout",
     "output_type": "stream",
     "text": [
      "+-------------------+----+------------------+--------------+\n",
      "|               hour|zone|            amount|number_records|\n",
      "+-------------------+----+------------------+--------------+\n",
      "|2020-01-01 00:00:00|   7| 769.7299999999998|            45|\n",
      "|2020-01-01 00:00:00|  17|195.03000000000003|             9|\n",
      "|2020-01-01 00:00:00|  18|               7.8|             1|\n",
      "|2020-01-01 00:00:00|  22|              15.8|             1|\n",
      "|2020-01-01 00:00:00|  24|              87.6|             3|\n",
      "|2020-01-01 00:00:00|  25|             531.0|            26|\n",
      "|2020-01-01 00:00:00|  29|              61.3|             1|\n",
      "|2020-01-01 00:00:00|  32| 68.94999999999999|             2|\n",
      "|2020-01-01 00:00:00|  33|317.27000000000004|            11|\n",
      "|2020-01-01 00:00:00|  35|129.96000000000004|             5|\n",
      "+-------------------+----+------------------+--------------+\n",
      "only showing top 10 rows\n",
      "\n"
     ]
    }
   ],
   "source": [
    "# SQL\n",
    "\n",
    "# Sum the total fare amount and the total number of trips \n",
    "#   by revenue zone by hour from January 2020 onward\n",
    "#   ordered by hour then zone\n",
    "df_green_revenue = spark.sql(\"\"\"\n",
    "    SELECT \n",
    "        date_trunc('hour', lpep_pickup_datetime) AS hour, \n",
    "        PULocationID AS zone,\n",
    "        SUM(total_amount) AS amount,\n",
    "        COUNT(1) AS number_records\n",
    "    FROM\n",
    "        green\n",
    "    WHERE\n",
    "        lpep_pickup_datetime >= '2020-01-01 00:00:00'\n",
    "    GROUP BY\n",
    "        1, 2\n",
    "    ORDER BY\n",
    "        1, 2\n",
    "\"\"\")\n",
    "\n",
    "# See the results\n",
    "df_green_revenue.show(10)"
   ]
  },
  {
   "cell_type": "code",
   "execution_count": 4,
   "id": "58f84e6b",
   "metadata": {},
   "outputs": [],
   "source": [
    "# Save these results to a report in 20 partitions\n",
    "df_green_revenue \\\n",
    "    .repartition(20) \\\n",
    "    .write.parquet('./data/report/revenue/green', mode='overwrite')"
   ]
  },
  {
   "cell_type": "code",
   "execution_count": 5,
   "id": "d9ab0bc0",
   "metadata": {},
   "outputs": [],
   "source": [
    "# Do the same as above for yellow data\n",
    "df_yellow = spark.read.parquet('data/parquet/yellow/*/*')\n",
    "\n",
    "# Tell Spark that our DataFrame is a table\n",
    "df_yellow.createOrReplaceTempView('yellow')\n",
    "\n",
    "# Sum the total fare amount and the total number of trips \n",
    "#   by revenue zone by hour from January 2020 onward\n",
    "#   ordered by hour then zone\n",
    "df_yellow_revenue = spark.sql(\"\"\"\n",
    "    SELECT \n",
    "        date_trunc('hour', tpep_pickup_datetime) AS hour, \n",
    "        PULocationID AS zone,\n",
    "\n",
    "        SUM(total_amount) AS amount,\n",
    "        COUNT(1) AS number_records\n",
    "    FROM\n",
    "        yellow\n",
    "    WHERE\n",
    "        tpep_pickup_datetime >= '2020-01-01 00:00:00'\n",
    "    GROUP BY\n",
    "        1, 2\n",
    "    ORDER BY\n",
    "        1, 2\n",
    "\"\"\")\n",
    "\n",
    "# Save these results to a report in 20 partitions\n",
    "df_yellow_revenue \\\n",
    "    .repartition(20) \\\n",
    "    .write.parquet('./data/report/revenue/yellow', mode='overwrite')"
   ]
  }
 ],
 "metadata": {
  "kernelspec": {
   "display_name": "Python [conda env:.conda-zoom]",
   "language": "python",
   "name": "conda-env-.conda-zoom-py"
  },
  "language_info": {
   "codemirror_mode": {
    "name": "ipython",
    "version": 3
   },
   "file_extension": ".py",
   "mimetype": "text/x-python",
   "name": "python",
   "nbconvert_exporter": "python",
   "pygments_lexer": "ipython3",
   "version": "3.9.16"
  }
 },
 "nbformat": 4,
 "nbformat_minor": 5
}
