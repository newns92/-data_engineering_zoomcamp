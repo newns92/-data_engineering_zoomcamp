{
 "cells": [
  {
   "cell_type": "code",
   "execution_count": 1,
   "id": "1e2b4de7",
   "metadata": {},
   "outputs": [],
   "source": [
    "import pyspark\n",
    "from pyspark.sql import SparkSession\n",
    "\n",
    "# create the SparkSession\n",
    "spark = SparkSession.builder \\\n",
    "    .master(\"local[*]\") \\\n",
    "    .appName('test') \\\n",
    "    .getOrCreate()"
   ]
  },
  {
   "cell_type": "code",
   "execution_count": 3,
   "id": "78d0e9de",
   "metadata": {},
   "outputs": [],
   "source": [
    "# get all green data\n",
    "df_green = spark.read.parquet('data/parquet/green/*/*')"
   ]
  },
  {
   "cell_type": "code",
   "execution_count": 6,
   "id": "405c7646",
   "metadata": {},
   "outputs": [],
   "source": [
    "# tell Spark that our DataFrame is a table\n",
    "# df_trips_data.registerTempTable('trips_data')  # deprecated\n",
    "df_green.createOrReplaceTempView('green')"
   ]
  },
  {
   "cell_type": "code",
   "execution_count": 7,
   "id": "752fca1d",
   "metadata": {},
   "outputs": [],
   "source": [
    "# sum the total amount of fare and number of trips \n",
    "#   by revenue zone by hour from January 2020\n",
    "df_green_revenue = spark.sql(\"\"\"\n",
    "SELECT \n",
    "    date_trunc('hour', lpep_pickup_datetime) AS hour, \n",
    "    PULocationID AS zone,\n",
    "\n",
    "    SUM(total_amount) AS amount,\n",
    "    COUNT(1) AS number_records\n",
    "FROM\n",
    "    green\n",
    "WHERE\n",
    "    lpep_pickup_datetime >= '2020-01-01 00:00:00'\n",
    "GROUP BY\n",
    "    1, 2\n",
    "\"\"\")"
   ]
  },
  {
   "cell_type": "code",
   "execution_count": 8,
   "id": "3814df52",
   "metadata": {},
   "outputs": [
    {
     "name": "stdout",
     "output_type": "stream",
     "text": [
      "+-------------------+----+------------------+--------------+\n",
      "|               hour|zone|            amount|number_records|\n",
      "+-------------------+----+------------------+--------------+\n",
      "|2020-01-06 07:00:00| 241|            169.16|             6|\n",
      "|2020-01-19 19:00:00|  41| 457.2400000000003|            43|\n",
      "|2020-01-23 23:00:00| 129| 304.1300000000001|            22|\n",
      "|2020-01-28 15:00:00| 129|            208.23|             9|\n",
      "|2020-01-02 08:00:00|  74|1187.4199999999987|            96|\n",
      "|2020-01-06 16:00:00| 129|250.42000000000002|            15|\n",
      "|2020-01-07 10:00:00| 171|             38.98|             2|\n",
      "|2020-01-09 15:00:00| 260| 242.6800000000001|            19|\n",
      "|2020-01-16 20:00:00|  82| 424.1900000000001|            27|\n",
      "|2020-01-21 16:00:00|  33| 917.3599999999994|            38|\n",
      "|2020-01-08 17:00:00| 140|            313.81|             8|\n",
      "|2020-01-22 08:00:00| 244| 285.3999999999999|            14|\n",
      "|2020-01-30 14:00:00|  74| 738.6799999999996|            49|\n",
      "|2020-01-03 07:00:00|  74| 918.9199999999993|            66|\n",
      "|2020-01-11 13:00:00|  41| 859.2399999999992|            63|\n",
      "|2020-01-16 15:00:00|  65| 376.4800000000001|            17|\n",
      "|2020-01-15 17:00:00| 247|            121.57|             4|\n",
      "|2020-01-05 18:00:00|  97| 513.1700000000002|            42|\n",
      "|2020-01-03 11:00:00|  85|            162.22|             6|\n",
      "|2020-01-28 13:00:00|  58|62.269999999999996|             2|\n",
      "+-------------------+----+------------------+--------------+\n",
      "only showing top 20 rows\n",
      "\n"
     ]
    }
   ],
   "source": [
    "df_green_revenue.show()"
   ]
  },
  {
   "cell_type": "code",
   "execution_count": 9,
   "id": "655ab9ca",
   "metadata": {},
   "outputs": [],
   "source": [
    "# save these results to a report in 20 partitions\n",
    "df_green_revenue \\\n",
    "    .repartition(20) \\\n",
    "    .write.parquet('data/report/revenue/green', mode='overwrite')"
   ]
  },
  {
   "cell_type": "code",
   "execution_count": 13,
   "id": "647a4bcd",
   "metadata": {},
   "outputs": [],
   "source": [
    "# do the same as above for yellow data\n",
    "df_yellow = spark.read.parquet('data/parquet/yellow/*/*')\n",
    "\n",
    "df_yellow.createOrReplaceTempView('yellow')\n",
    "\n",
    "df_yellow_revenue = spark.sql(\"\"\"\n",
    "SELECT \n",
    "    date_trunc('hour', tpep_pickup_datetime) AS hour, \n",
    "    PULocationID AS zone,\n",
    "\n",
    "    SUM(total_amount) AS amount,\n",
    "    COUNT(1) AS number_records\n",
    "FROM\n",
    "    yellow\n",
    "WHERE\n",
    "    tpep_pickup_datetime >= '2020-01-01 00:00:00'\n",
    "GROUP BY\n",
    "    1, 2\n",
    "\"\"\")\n",
    "\n",
    "df_yellow_revenue \\\n",
    "    .repartition(20) \\\n",
    "    .write.parquet('data/report/revenue/yellow', mode='overwrite')"
   ]
  }
 ],
 "metadata": {
  "kernelspec": {
   "display_name": "Python [conda env:.conda-zoom]",
   "language": "python",
   "name": "conda-env-.conda-zoom-py"
  },
  "language_info": {
   "codemirror_mode": {
    "name": "ipython",
    "version": 3
   },
   "file_extension": ".py",
   "mimetype": "text/x-python",
   "name": "python",
   "nbconvert_exporter": "python",
   "pygments_lexer": "ipython3",
   "version": "3.9.16"
  }
 },
 "nbformat": 4,
 "nbformat_minor": 5
}
