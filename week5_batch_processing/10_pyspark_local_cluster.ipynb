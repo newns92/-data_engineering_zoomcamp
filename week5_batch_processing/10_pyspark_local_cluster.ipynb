{
 "cells": [
  {
   "cell_type": "code",
   "execution_count": null,
   "id": "5a371ae3",
   "metadata": {},
   "outputs": [],
   "source": [
    "from pyspark.sql import SparkSession\n",
    "\n",
    "# use the new master from the VM to start a SparkSession\n",
    "spark = SparkSession.builder \\\n",
    "    .master('spark://de-zoomcamp.northamerica-northeast2-a.c.de-zoomcamp-384821.internal:7077') \\\n",
    "    .appName('test') \\\n",
    "    .getOrCreate()"
   ]
  },
  {
   "cell_type": "code",
   "execution_count": null,
   "id": "70bdbc5f",
   "metadata": {},
   "outputs": [],
   "source": [
    "# run something\n",
    "df_green = spark.read.parquet('data/parquet/green/*/*')"
   ]
  },
  {
   "cell_type": "markdown",
   "id": "4d92b3bf",
   "metadata": {},
   "source": [
    "**After this, we should have an object in the Spark master UI "
   ]
  }
 ],
 "metadata": {
  "kernelspec": {
   "display_name": "Python [conda env:.conda-zoom]",
   "language": "python",
   "name": "conda-env-.conda-zoom-py"
  },
  "language_info": {
   "codemirror_mode": {
    "name": "ipython",
    "version": 3
   },
   "file_extension": ".py",
   "mimetype": "text/x-python",
   "name": "python",
   "nbconvert_exporter": "python",
   "pygments_lexer": "ipython3",
   "version": "3.9.16"
  }
 },
 "nbformat": 4,
 "nbformat_minor": 5
}
